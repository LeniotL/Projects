{
 "cells": [
  {
   "cell_type": "markdown",
   "id": "0d615b51-97ab-47b5-80cf-076c065a58cb",
   "metadata": {},
   "source": [
    "# <span style=\"font-family: 'Brush Script MT'; font-size: 100px; color: rgba(255, 0, 0, 0.7)\">Capstone Project</span>"
   ]
  },
  {
   "cell_type": "markdown",
   "id": "23bfa6b8-4b21-470f-9250-6414a917809e",
   "metadata": {},
   "source": [
    "<div style=\"text-align: center; font-family: 'Comic Sans MS'; font-size: 40px; color: rgb(1, 77, 78); font-style: italic;\">Restaurant Recommender System</div>"
   ]
  },
  {
   "cell_type": "markdown",
   "id": "d836b616-84f5-43c3-8a8a-b14dec9fed49",
   "metadata": {},
   "source": [
    "<div style=\"text-align: right; font-family: 'Comic Sans MS'; color: rgba(255, 0, 0, 0.7)\"\">By Lim Zi Ming</div>"
   ]
  },
  {
   "cell_type": "markdown",
   "id": "76f724f3-df98-496a-b106-821c3af0f03d",
   "metadata": {},
   "source": [
    "![](images/tokyo_res3.jpg)"
   ]
  },
  {
   "cell_type": "markdown",
   "id": "2cfaca44-939a-4502-9145-f87a2d346747",
   "metadata": {},
   "source": [
    "## Model Evaluation"
   ]
  },
  {
   "cell_type": "markdown",
   "id": "cfddc1f7-be13-4b12-99a4-1f91b47d46d8",
   "metadata": {},
   "source": [
    "### Location accuracy\n",
    "To ensure that the model is giving correct locations of the restaurants. "
   ]
  },
  {
   "cell_type": "markdown",
   "id": "49cf3aac-f429-4c42-aedd-43fb20822413",
   "metadata": {},
   "source": [
    "<img src=\"images/screenshot4.png\" width=\"700\" height=\"600\">"
   ]
  },
  {
   "cell_type": "markdown",
   "id": "759bf9f9-ef81-426f-9f4a-ebb267737b57",
   "metadata": {},
   "source": [
    "<img src=\"images/screenshot5.png\" width=\"700\" height=\"600\">"
   ]
  },
  {
   "cell_type": "markdown",
   "id": "3c121ea6-bf61-4d74-ab09-e1f9cdd3bc2d",
   "metadata": {},
   "source": [
    "<img src=\"images/screenshot6.png\" width=\"700\" height=\"600\">"
   ]
  },
  {
   "cell_type": "markdown",
   "id": "54944313-1fa7-47c6-b80e-11d3f5832138",
   "metadata": {},
   "source": [
    "Looking at the 3 tests above with `ramen` as the selected genre and testing it over `shinjuku`, `shibuya` and `tokyo` stations, it is clear that our recommender system is able to provide accurate information of the restaurant's locations.\n",
    "\n",
    "---"
   ]
  },
  {
   "cell_type": "markdown",
   "id": "3477b666-4666-450a-bc77-76dbef3a5bbe",
   "metadata": {},
   "source": [
    "### Validate with Google Maps\n",
    "To ensure that the model is providing accurate recommendations, by cross-checking with Google Maps. "
   ]
  },
  {
   "cell_type": "markdown",
   "id": "a74247f6-3647-4a3d-ac7e-407e6f7de995",
   "metadata": {},
   "source": [
    "<img src=\"images/screenshot8.png\" width=\"700\" height=\"600\">"
   ]
  },
  {
   "cell_type": "markdown",
   "id": "6801725a-75f9-4eaf-bda6-7b4bd485efdd",
   "metadata": {},
   "source": [
    "<img src=\"images/screenshot7.png\" width=\"1200\" height=\"1100\">"
   ]
  },
  {
   "cell_type": "markdown",
   "id": "61d4f4b4-46f3-4250-b42a-a569c078599d",
   "metadata": {},
   "source": [
    "By searching `ramen` on google maps, `Ramen Izuru` can be seen on the search result. Showing that the recommender system is able to recommend restaurants with accuracy and relevance. \n",
    "\n",
    "---"
   ]
  },
  {
   "cell_type": "markdown",
   "id": "a7fa94d2-7a75-48a7-a04e-9a34fb825e19",
   "metadata": {},
   "source": [
    "<img src=\"images/screenshot9.png\" width=\"700\" height=\"600\">"
   ]
  },
  {
   "cell_type": "markdown",
   "id": "17886b97-06d9-4205-875f-ff07930005fb",
   "metadata": {},
   "source": [
    "<img src=\"images/screenshot10.png\" width=\"1200\" height=\"1100\">"
   ]
  },
  {
   "cell_type": "markdown",
   "id": "2d1c9a91-804b-4442-b0d7-6dcf2f8cf9a7",
   "metadata": {},
   "source": [
    "Lets try searching for a differnt genre `sushi` in a different train station, `nihonbashi station`. Unlike the previous test, this only shows 3 restaurants, which is due to only restaurants that are at above 30% similiarty are recommended.\n",
    "\n",
    "---"
   ]
  },
  {
   "attachments": {},
   "cell_type": "markdown",
   "id": "ecd67618-ec43-4f76-a47a-cf9794f34d3b",
   "metadata": {},
   "source": [
    "<img src=\"images/screenshot11.png\" width=\"700\" height=\"600\">"
   ]
  },
  {
   "cell_type": "markdown",
   "id": "1da6280e-5e97-48b3-988c-5b8132422858",
   "metadata": {},
   "source": [
    "<img src=\"images/screenshot12.png\" width=\"1200\" height=\"1100\">"
   ]
  },
  {
   "cell_type": "markdown",
   "id": "50c4fbab-67f3-4ee9-b21c-4608d4f5d63a",
   "metadata": {},
   "source": [
    "Similar to the above, `arachon` restaurant with at least 30% similarity with other restaurants with `cafe` genre are recommended.  Providing a more enhanced user-specific recommendations style. \n",
    "\n",
    "---"
   ]
  },
  {
   "cell_type": "markdown",
   "id": "abef8903-feb0-4bf6-8a34-253ac491168c",
   "metadata": {},
   "source": [
    "### Ratings Consistency with Google Maps\n",
    "Comparing ratings from the recommender system with those on Google Maps can help validate the accuracy and reliability of the recommender. "
   ]
  },
  {
   "cell_type": "markdown",
   "id": "8865b9dc-1eb7-4085-860c-18c1e21ceb92",
   "metadata": {},
   "source": [
    "<img src=\"images/screenshot13.png\" width=\"700\" height=\"600\">"
   ]
  },
  {
   "cell_type": "markdown",
   "id": "d67cff79-5167-4bb9-bf1a-ca4ac13eabc6",
   "metadata": {},
   "source": [
    "<img src=\"images/screenshot14.png\" width=\"600\" height=\"500\">"
   ]
  },
  {
   "cell_type": "markdown",
   "id": "933c2897-65a0-4df5-9d73-99ada540a816",
   "metadata": {},
   "source": [
    "<img src=\"images/screenshot15.png\" width=\"600\" height=\"500\">"
   ]
  },
  {
   "cell_type": "markdown",
   "id": "f31806c5-2392-4db2-8e72-a35c6a3c1b7b",
   "metadata": {},
   "source": [
    "To avoid confusion, according to Google Translate, `serpent market head office` is the same store as `Janoichi Honten`."
   ]
  },
  {
   "cell_type": "markdown",
   "id": "fcfe00e6-4780-42a2-ade8-2beee08b739f",
   "metadata": {},
   "source": [
    "<img src=\"images/screenshot16.png\" width=\"250\" height=\"40\">"
   ]
  },
  {
   "cell_type": "markdown",
   "id": "5a94701d-d1a0-406d-b6a2-7f38ee1121e5",
   "metadata": {},
   "source": [
    "<img src=\"images/screenshot17.png\" width=\"300\" height=\"100\">"
   ]
  },
  {
   "cell_type": "markdown",
   "id": "c6ff6c66-f7df-49a0-96da-fd3a8382470d",
   "metadata": {},
   "source": [
    "<img src=\"images/screenshot18.png\" width=\"300\" height=\"100\">"
   ]
  },
  {
   "cell_type": "markdown",
   "id": "d8fbfd4f-9979-4465-b36f-0c92e065929f",
   "metadata": {},
   "source": [
    "<img src=\"images/screenshot19.png\" width=\"300\" height=\"100\">"
   ]
  },
  {
   "cell_type": "markdown",
   "id": "3b52664e-8279-4c49-bb84-f3e232d01f31",
   "metadata": {},
   "source": [
    "<img src=\"images/screenshot20.png\" width=\"300\" height=\"100\">"
   ]
  },
  {
   "cell_type": "markdown",
   "id": "9e389e74-03b9-4663-8f2b-db90bb83d3ba",
   "metadata": {},
   "source": [
    "Comparing our recommender system's ratings (scraped from Tabelog.com) to Google Maps, we can clearly see that the ratings on Google Maps are all higher than the ratings on Tabelog. However, as our goal is to provide Japanese local's insights for foreigners, this is a good thing. The recommender system is able to provide a much more authentic ratings that reflect the true sentiments and standards of the local populace.\n",
    "\n",
    "---"
   ]
  },
  {
   "cell_type": "markdown",
   "id": "9674276b-2211-422c-ac98-93005e7cea39",
   "metadata": {},
   "source": [
    "### Validate with TripAdvisor\n",
    "Cross-validating with another platform."
   ]
  },
  {
   "cell_type": "markdown",
   "id": "347e4f27-c5b0-4712-a846-98a134f26db7",
   "metadata": {},
   "source": [
    "<img src=\"images/screenshot21.png\" width=\"700\" height=\"600\">"
   ]
  },
  {
   "cell_type": "markdown",
   "id": "a6e129a5-90bb-428e-a1db-7d8852af2d26",
   "metadata": {},
   "source": [
    "<img src=\"images/screenshot22.png\" width=\"700\" height=\"600\">"
   ]
  },
  {
   "cell_type": "markdown",
   "id": "ce0261ab-8a51-467b-bd20-98485a897b13",
   "metadata": {},
   "source": [
    "<img src=\"images/screenshot23.png\" width=\"700\" height=\"600\">"
   ]
  },
  {
   "cell_type": "markdown",
   "id": "587c5334-d7e0-47ca-872c-6c0c069d2efa",
   "metadata": {},
   "source": [
    "<img src=\"images/screenshot24.png\" width=\"700\" height=\"600\">"
   ]
  },
  {
   "cell_type": "markdown",
   "id": "894b9968-e17f-43c4-86dd-e23e1f2bee34",
   "metadata": {},
   "source": [
    "<img src=\"images/screenshot25.png\" width=\"700\" height=\"600\">"
   ]
  },
  {
   "cell_type": "markdown",
   "id": "d7d1f6d0-ac6c-44b5-ae5e-b787c2c76659",
   "metadata": {},
   "source": [
    "Here we can observe that there is a deviation to the ratings from TripAdvisor to Tabelog, showing a difference in how the two platforms rate and review restaurants. With a global user base, TripAdvisor represents a mix of opinions from travelers from all around the world. The tastes, expectations, and standards can be more diverse.\n",
    "\n",
    "---"
   ]
  },
  {
   "cell_type": "markdown",
   "id": "5ea762bd-0904-4db6-ba45-17feb64408d1",
   "metadata": {},
   "source": [
    "### Multi-Genres Recommendations\n",
    "\n",
    "Recognizing that many users may have diverse tastes or are open to trying a medley of cuisines during their visit, our recommendation system has been optimized to accommodate multi-genre preferences."
   ]
  },
  {
   "cell_type": "markdown",
   "id": "a3e04a24-5ec0-4052-8970-edd7c4a37711",
   "metadata": {},
   "source": [
    "<img src=\"images/screenshot26.png\" width=\"700\" height=\"600\">"
   ]
  },
  {
   "cell_type": "markdown",
   "id": "3a80f241-217f-40c6-bea3-9bf0645da2c6",
   "metadata": {},
   "source": [
    "<img src=\"images/screenshot27.png\" width=\"700\" height=\"600\">"
   ]
  },
  {
   "cell_type": "markdown",
   "id": "9022a7d8-e823-4b6c-84a4-c8e2786d986c",
   "metadata": {},
   "source": [
    "<img src=\"images/screenshot28.png\" width=\"700\" height=\"600\">"
   ]
  },
  {
   "cell_type": "markdown",
   "id": "dd3c15dc-e7d1-4bac-a9ea-97b4cd6338d1",
   "metadata": {},
   "source": [
    "Our recommender system is able to provide recommendations with multiple genres instead of restricting users to one type of cuisine, it offers a variety of choices that showcase the diversity of Japan's cuisines.\n",
    "\n",
    "---"
   ]
  },
  {
   "cell_type": "markdown",
   "id": "4db8d592-b688-40d0-8904-8f2019e0a99b",
   "metadata": {},
   "source": [
    "## Conclusions"
   ]
  },
  {
   "cell_type": "markdown",
   "id": "35861161-e3d4-41ba-9bec-c4f2e17d97f8",
   "metadata": {},
   "source": [
    "Throughout our rigorous evaluation process, our recommender system is accurate in pinpointing restaurant locations, especially when cross-referenced with renowned platforms like Google Maps and TripAdvisor. While there are rating differences between platforms, they only emphasize our recommender's authenticity in capturing the true sentiments of local Japanese diners. Notably, our system's standout feature is its ability to recommend multiple types of cuisines, allowing users to dive deep into Japan's rich culinary scene. However, it's worth noting that there are some boundaries to our platform, primarily stemming from constraints set by Streamlit and GitHub. These limitations impacted the speed, storage and real-time updates of our application. With so much initial data, our system could have been complex. But it still efficiently guides users through varied food options without being too much. We've done our best to optimize within these limits. Despite these challenges, our tool remains a helpful guide for exploring Japan's diverse food scene."
   ]
  },
  {
   "cell_type": "markdown",
   "id": "26c8106f-b97e-46d4-9870-a0e17692a120",
   "metadata": {},
   "source": [
    "## Future Works"
   ]
  },
  {
   "cell_type": "markdown",
   "id": "4655d5b9-3fec-4fe5-bf5b-13abf80a209c",
   "metadata": {},
   "source": [
    "**1. Evaluation and Iteration**:\n",
    "- Implement a feedback loop where users can rate their experience with the recommended restaurants. This helps in continuously refining and improving the recommendation algorithm.\n",
    "- Periodically reassess the model with fresh data to ensure its continued accuracy and relevance.\n",
    "\n",
    "**2. Integration with Other Platforms**:\n",
    "- Explore partnerships with travel and dining apps to integrate our recommendation system, broadening its reach and accessibility.\n",
    "- Allow users to link their profiles from other platforms (like TripAdvisor, Yelp, etc.) to get personalized recommendations based on their previous reviews and preferences.\n",
    "\n",
    "**3. Enhanced User Profiling**:\n",
    "- Introduce a user onboarding process that captures specific dietary preferences, past dining experiences, and favorite cuisines to tailor recommendations further.\n",
    "- Use machine learning to analyze user behavior over time, adapting the suggestions to changing preferences.\n",
    "\n",
    "**4. Improved User Interface and Experience**:\n",
    "- Develop a user-friendly mobile application with map integrations, allowing users to get directions, view restaurant pictures, and make reservations.\n",
    "- Implement an AI chatbot that interacts with users in real-time, understanding their immediate cravings and suggesting restaurants accordingly.\n",
    "\n",
    "**5. Social Features**:\n",
    "- Introduce features where users can share their favorite recommendations with friends or on social media.\n",
    "- Allow users to create and share curated lists of restaurants, promoting a sense of community and shared dining experiences."
   ]
  },
  {
   "cell_type": "code",
   "execution_count": null,
   "id": "2ce959a2-6a64-4d4b-b878-750cc0bcc54c",
   "metadata": {},
   "outputs": [],
   "source": []
  }
 ],
 "metadata": {
  "kernelspec": {
   "display_name": "Python 3 (ipykernel)",
   "language": "python",
   "name": "python3"
  },
  "language_info": {
   "codemirror_mode": {
    "name": "ipython",
    "version": 3
   },
   "file_extension": ".py",
   "mimetype": "text/x-python",
   "name": "python",
   "nbconvert_exporter": "python",
   "pygments_lexer": "ipython3",
   "version": "3.8.17"
  }
 },
 "nbformat": 4,
 "nbformat_minor": 5
}
