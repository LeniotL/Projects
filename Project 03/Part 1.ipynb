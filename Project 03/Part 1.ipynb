{
 "cells": [
  {
   "cell_type": "markdown",
   "id": "50e84585-28cb-45b0-8c13-85bf933fc201",
   "metadata": {},
   "source": [
    "# ![](https://ga-dash.s3.amazonaws.com/production/assets/logo-9f88ae6c9c3871690e33280fcf557f33.png) Project 3: Web APIs & NLP"
   ]
  },
  {
   "cell_type": "markdown",
   "id": "69732aa2-6a81-4c20-b9fb-4a6788b30d61",
   "metadata": {},
   "source": [
    "## Part 1\n",
    "Fetching the top posts from the subreddits on Reddit for the past month:\n",
    "\n",
    "1. [JapanTravel](https://www.reddit.com/r/JapanTravel/)\n",
    "2. [koreatravel](https://www.reddit.com/r/koreatravel/)"
   ]
  },
  {
   "cell_type": "markdown",
   "id": "801b8aaf-db8b-42c3-b56c-b3537f624033",
   "metadata": {},
   "source": [
    "Using PRAW (Python Reddit API Wrapper) is ideal for scraping comments from Reddit due to its official status as a Reddit API wrapper, simplified authentication, automatic rate limiting, easy data parsing, comprehensive documentation, enhanced error handling, community support, stability, and respect for Reddit's guidelines, making it a convenient, efficient, and ethical tool for accessing Reddit's API and extracting comments."
   ]
  },
  {
   "cell_type": "code",
   "execution_count": 1,
   "id": "f2e899ec-8c42-4ac1-abd4-1af048772ee5",
   "metadata": {},
   "outputs": [],
   "source": [
    "# Import necessary libraries and set up parameters.\n",
    "import pandas as pd\n",
    "import praw\n",
    "import pickle"
   ]
  },
  {
   "cell_type": "markdown",
   "id": "73c4c7c1-28bc-4e7b-be63-c10bd4acbe9c",
   "metadata": {},
   "source": [
    "### Japan"
   ]
  },
  {
   "cell_type": "markdown",
   "id": "01f21e0b-8fff-4110-801c-b54280d62473",
   "metadata": {},
   "source": [
    "#### JapanTravel (Comments)\n",
    "Utilizing the praw library to authenticate with the Reddit API and scrape comments from the \"JapanTravel\" subreddit. The script sets the limit to 100 posts and it extracts the comment ID, creation time, comment body, and score of each comment under those top posts.\n",
    "\n",
    "- `Comment ID`: Extracting the comment's ID instead of the author's ID can help us identify duplicates much easier.\n",
    "- `Timestamp`: Extracting the timestamp of the comment created, can help to determine if there are any seasonal patterns.\n",
    "- `Comment Body`: Extracting the comments instead of the posts can provide us with much more datas to identify trending keywords much easier. \n",
    "- `Upvotes`: Extracting the score of the comment can help us to differentiate positive comments vs negative comments according to the context. "
   ]
  },
  {
   "cell_type": "code",
   "execution_count": 2,
   "id": "eb72102b-c9d6-4421-b166-84a2a3010371",
   "metadata": {},
   "outputs": [
    {
     "name": "stdout",
     "output_type": "stream",
     "text": [
      "(14461, 4)\n"
     ]
    },
    {
     "data": {
      "text/html": [
       "<div>\n",
       "<style scoped>\n",
       "    .dataframe tbody tr th:only-of-type {\n",
       "        vertical-align: middle;\n",
       "    }\n",
       "\n",
       "    .dataframe tbody tr th {\n",
       "        vertical-align: top;\n",
       "    }\n",
       "\n",
       "    .dataframe thead th {\n",
       "        text-align: right;\n",
       "    }\n",
       "</style>\n",
       "<table border=\"1\" class=\"dataframe\">\n",
       "  <thead>\n",
       "    <tr style=\"text-align: right;\">\n",
       "      <th></th>\n",
       "      <th>Comment ID</th>\n",
       "      <th>Timestamp</th>\n",
       "      <th>Comment Body</th>\n",
       "      <th>Upvotes</th>\n",
       "    </tr>\n",
       "  </thead>\n",
       "  <tbody>\n",
       "    <tr>\n",
       "      <th>0</th>\n",
       "      <td>dwkf6l4</td>\n",
       "      <td>2018-03-31 04:41:48</td>\n",
       "      <td>This is probably the most uneventful part of t...</td>\n",
       "      <td>1081</td>\n",
       "    </tr>\n",
       "    <tr>\n",
       "      <th>1</th>\n",
       "      <td>dwk6wsz</td>\n",
       "      <td>2018-03-31 01:40:06</td>\n",
       "      <td>What hotel. I’m in Osaka with nothing to do to...</td>\n",
       "      <td>673</td>\n",
       "    </tr>\n",
       "    <tr>\n",
       "      <th>2</th>\n",
       "      <td>dwkii8n</td>\n",
       "      <td>2018-03-31 06:19:18</td>\n",
       "      <td>Ze Documents have been delivered!!!</td>\n",
       "      <td>2361</td>\n",
       "    </tr>\n",
       "    <tr>\n",
       "      <th>3</th>\n",
       "      <td>dwk9186</td>\n",
       "      <td>2018-03-31 02:24:31</td>\n",
       "      <td>Alright redditors, the adventure begins. I’m o...</td>\n",
       "      <td>9226</td>\n",
       "    </tr>\n",
       "    <tr>\n",
       "      <th>4</th>\n",
       "      <td>dwkjj5i</td>\n",
       "      <td>2018-03-31 06:55:34</td>\n",
       "      <td>On the way for real now!</td>\n",
       "      <td>377</td>\n",
       "    </tr>\n",
       "  </tbody>\n",
       "</table>\n",
       "</div>"
      ],
      "text/plain": [
       "  Comment ID           Timestamp  \\\n",
       "0    dwkf6l4 2018-03-31 04:41:48   \n",
       "1    dwk6wsz 2018-03-31 01:40:06   \n",
       "2    dwkii8n 2018-03-31 06:19:18   \n",
       "3    dwk9186 2018-03-31 02:24:31   \n",
       "4    dwkjj5i 2018-03-31 06:55:34   \n",
       "\n",
       "                                        Comment Body  Upvotes  \n",
       "0  This is probably the most uneventful part of t...     1081  \n",
       "1  What hotel. I’m in Osaka with nothing to do to...      673  \n",
       "2                Ze Documents have been delivered!!!     2361  \n",
       "3  Alright redditors, the adventure begins. I’m o...     9226  \n",
       "4                           On the way for real now!      377  "
      ]
     },
     "execution_count": 2,
     "metadata": {},
     "output_type": "execute_result"
    }
   ],
   "source": [
    "# Replace these with your API credentials\n",
    "reddit_client_id = ''\n",
    "reddit_client_secret = ''\n",
    "reddit_user_agent = ''\n",
    "\n",
    "# Authenticate with the Reddit API\n",
    "reddit = praw.Reddit(client_id=reddit_client_id,\n",
    "                     client_secret=reddit_client_secret,\n",
    "                     user_agent=reddit_user_agent)\n",
    "\n",
    "# Subreddit to scrape comments from\n",
    "subreddit_name = 'JapanTravel'\n",
    "\n",
    "# Choose the number of top posts to fetch\n",
    "limit = 100\n",
    "\n",
    "# Fetch top posts from the subreddit\n",
    "subreddit = reddit.subreddit(subreddit_name)\n",
    "top_posts = subreddit.top(limit=limit)\n",
    "\n",
    "# Lists to store the attributes of comments\n",
    "comment_ids = []\n",
    "comment_timestamps = []\n",
    "comment_bodies = []\n",
    "comment_upvotes = []\n",
    "\n",
    "# Process the fetched top posts and extract comments from them\n",
    "for post in top_posts:\n",
    "    post.comments.replace_more(limit=0)  # Replace \"MoreComments\" objects with actual comments\n",
    "    for comment in post.comments.list():\n",
    "        comment_ids.append(comment.id)\n",
    "        comment_timestamps.append(comment.created_utc)\n",
    "        comment_bodies.append(comment.body)\n",
    "        comment_upvotes.append(comment.score)\n",
    "        \n",
    "# Create a DataFrame from the lists\n",
    "jp_top = pd.DataFrame({\n",
    "    'Comment ID': comment_ids,\n",
    "    'Timestamp': comment_timestamps,\n",
    "    'Comment Body': comment_bodies,\n",
    "    'Upvotes': comment_upvotes\n",
    "})\n",
    "\n",
    "jp_top['Timestamp'] = pd.to_datetime(jp_top['Timestamp'], unit='s')\n",
    "\n",
    "print(jp_top.shape)\n",
    "jp_top.head()"
   ]
  },
  {
   "cell_type": "markdown",
   "id": "b9c96e59-367a-4791-bd3e-4cc6dfd00b19",
   "metadata": {},
   "source": [
    "#### Export Data"
   ]
  },
  {
   "cell_type": "code",
   "execution_count": 3,
   "id": "93a34a40-70b8-4867-b862-a66bb0c1f49d",
   "metadata": {},
   "outputs": [],
   "source": [
    "# Save the updated DataFrame to a new CSV file\n",
    "jp_top.to_pickle('data/jp_top.pkl')"
   ]
  },
  {
   "cell_type": "markdown",
   "id": "69f4a643-2224-47ab-98f7-3506704ba93d",
   "metadata": {},
   "source": [
    "### Korea"
   ]
  },
  {
   "cell_type": "markdown",
   "id": "05d61b55-4897-459d-a491-c9015543051b",
   "metadata": {},
   "source": [
    "#### koreatravel (Comments)\n",
    "Reapplying the same technique to Japan. But with the limit of 450 posts, in order to match a similar number of rows as `'jp_top'`.\n",
    "\n",
    "- `Comment ID`: Extracting the comment's ID instead of the author's ID can help us identify duplicates much easier.\n",
    "- `Timestamp`: Extracting the timestamp of the comment created, can help to determine if there are any seasonal patterns.\n",
    "- `Comment Body`: Extracting the comments instead of the posts can provide us with much more datas to identify trending keywords much easier. \n",
    "- `Upvotes`: Extracting the score of the comment can help us to differentiate positive comments vs negative comments according to the context. "
   ]
  },
  {
   "cell_type": "code",
   "execution_count": 4,
   "id": "221395a3-21c9-4fc2-ad07-6021033a9aa4",
   "metadata": {},
   "outputs": [
    {
     "name": "stdout",
     "output_type": "stream",
     "text": [
      "(13124, 4)\n"
     ]
    },
    {
     "data": {
      "text/html": [
       "<div>\n",
       "<style scoped>\n",
       "    .dataframe tbody tr th:only-of-type {\n",
       "        vertical-align: middle;\n",
       "    }\n",
       "\n",
       "    .dataframe tbody tr th {\n",
       "        vertical-align: top;\n",
       "    }\n",
       "\n",
       "    .dataframe thead th {\n",
       "        text-align: right;\n",
       "    }\n",
       "</style>\n",
       "<table border=\"1\" class=\"dataframe\">\n",
       "  <thead>\n",
       "    <tr style=\"text-align: right;\">\n",
       "      <th></th>\n",
       "      <th>Comment ID</th>\n",
       "      <th>Timestamp</th>\n",
       "      <th>Comment Body</th>\n",
       "      <th>Upvotes</th>\n",
       "    </tr>\n",
       "  </thead>\n",
       "  <tbody>\n",
       "    <tr>\n",
       "      <th>0</th>\n",
       "      <td>ir411me</td>\n",
       "      <td>2022-10-05 04:20:31</td>\n",
       "      <td>Pretty solid tips.\\n\\nA comment/question\\n\\n- ...</td>\n",
       "      <td>18</td>\n",
       "    </tr>\n",
       "    <tr>\n",
       "      <th>1</th>\n",
       "      <td>ir4ns6m</td>\n",
       "      <td>2022-10-05 09:18:32</td>\n",
       "      <td>Really useful tips, thank you! I was debating ...</td>\n",
       "      <td>8</td>\n",
       "    </tr>\n",
       "    <tr>\n",
       "      <th>2</th>\n",
       "      <td>ir3savu</td>\n",
       "      <td>2022-10-05 02:59:37</td>\n",
       "      <td>Amazing advice! I’ll be in Busan then Seoul in...</td>\n",
       "      <td>6</td>\n",
       "    </tr>\n",
       "    <tr>\n",
       "      <th>3</th>\n",
       "      <td>ir3okpj</td>\n",
       "      <td>2022-10-05 02:28:30</td>\n",
       "      <td>Straight to the point. Love it. Thanks for pos...</td>\n",
       "      <td>5</td>\n",
       "    </tr>\n",
       "    <tr>\n",
       "      <th>4</th>\n",
       "      <td>ir7v4hg</td>\n",
       "      <td>2022-10-05 23:44:59</td>\n",
       "      <td>[deleted]</td>\n",
       "      <td>3</td>\n",
       "    </tr>\n",
       "  </tbody>\n",
       "</table>\n",
       "</div>"
      ],
      "text/plain": [
       "  Comment ID           Timestamp  \\\n",
       "0    ir411me 2022-10-05 04:20:31   \n",
       "1    ir4ns6m 2022-10-05 09:18:32   \n",
       "2    ir3savu 2022-10-05 02:59:37   \n",
       "3    ir3okpj 2022-10-05 02:28:30   \n",
       "4    ir7v4hg 2022-10-05 23:44:59   \n",
       "\n",
       "                                        Comment Body  Upvotes  \n",
       "0  Pretty solid tips.\\n\\nA comment/question\\n\\n- ...       18  \n",
       "1  Really useful tips, thank you! I was debating ...        8  \n",
       "2  Amazing advice! I’ll be in Busan then Seoul in...        6  \n",
       "3  Straight to the point. Love it. Thanks for pos...        5  \n",
       "4                                          [deleted]        3  "
      ]
     },
     "execution_count": 4,
     "metadata": {},
     "output_type": "execute_result"
    }
   ],
   "source": [
    "# Replace these with your API credentials\n",
    "reddit_client_id = ''\n",
    "reddit_client_secret = ''\n",
    "reddit_user_agent = ''\n",
    "\n",
    "# Authenticate with the Reddit API\n",
    "reddit = praw.Reddit(client_id=reddit_client_id,\n",
    "                     client_secret=reddit_client_secret,\n",
    "                     user_agent=reddit_user_agent)\n",
    "\n",
    "# Subreddit to scrape comments from\n",
    "subreddit_name = 'koreatravel'\n",
    "\n",
    "# Choose the number of top posts to fetch\n",
    "limit = 450\n",
    "\n",
    "# Fetch top posts from the subreddit\n",
    "subreddit = reddit.subreddit(subreddit_name)\n",
    "top_posts = subreddit.top(limit=limit)\n",
    "\n",
    "# Lists to store the attributes of comments\n",
    "comment_ids = []\n",
    "comment_timestamps = []\n",
    "comment_bodies = []\n",
    "comment_upvotes = []\n",
    "\n",
    "# Process the fetched top posts and extract comments from them\n",
    "for post in top_posts:\n",
    "    post.comments.replace_more(limit=0)  # Replace \"MoreComments\" objects with actual comments\n",
    "    for comment in post.comments.list():\n",
    "        comment_ids.append(comment.id)\n",
    "        comment_timestamps.append(comment.created_utc)\n",
    "        comment_bodies.append(comment.body)\n",
    "        comment_upvotes.append(comment.score)\n",
    "        \n",
    "# Create a DataFrame from the lists\n",
    "kr_top = pd.DataFrame({\n",
    "    'Comment ID': comment_ids,\n",
    "    'Timestamp': comment_timestamps,\n",
    "    'Comment Body': comment_bodies,\n",
    "    'Upvotes': comment_upvotes\n",
    "})\n",
    "\n",
    "# Converting to datetime format for best practice\n",
    "kr_top['Timestamp'] = pd.to_datetime(kr_top['Timestamp'], unit='s')\n",
    "\n",
    "print(kr_top.shape)\n",
    "kr_top.head()"
   ]
  },
  {
   "cell_type": "markdown",
   "id": "38f02df9-3e07-431b-8ac8-1e848f15e3a1",
   "metadata": {},
   "source": [
    "#### Export Data"
   ]
  },
  {
   "cell_type": "code",
   "execution_count": 5,
   "id": "3bf7c00a-1b5a-4322-b7ea-27f67c6a12d7",
   "metadata": {},
   "outputs": [],
   "source": [
    "# Save the updated DataFrame to a new CSV file\n",
    "kr_top.to_pickle('data/kr_top.pkl')"
   ]
  },
  {
   "cell_type": "code",
   "execution_count": null,
   "id": "b52250d4-8d04-4492-b4e3-513ccd90e903",
   "metadata": {},
   "outputs": [],
   "source": []
  },
  {
   "cell_type": "code",
   "execution_count": null,
   "id": "9469f94f-efa4-44a6-9925-e659b6e2ca7a",
   "metadata": {},
   "outputs": [],
   "source": []
  }
 ],
 "metadata": {
  "kernelspec": {
   "display_name": "Python 3 (ipykernel)",
   "language": "python",
   "name": "python3"
  },
  "language_info": {
   "codemirror_mode": {
    "name": "ipython",
    "version": 3
   },
   "file_extension": ".py",
   "mimetype": "text/x-python",
   "name": "python",
   "nbconvert_exporter": "python",
   "pygments_lexer": "ipython3",
   "version": "3.8.17"
  }
 },
 "nbformat": 4,
 "nbformat_minor": 5
}
