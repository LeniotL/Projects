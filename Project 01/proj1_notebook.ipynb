{
 "cells": [
  {
   "cell_type": "markdown",
   "metadata": {},
   "source": [
    "<img src=\"http://imgur.com/1ZcRyrc.png\" style=\"float: left; margin: 20px; height: 55px\">\n",
    "\n",
    "# Project 1: Data Analysis of Singapore Rainfall"
   ]
  },
  {
   "cell_type": "markdown",
   "metadata": {},
   "source": [
    "--- \n",
    "# Part 1\n",
    "\n",
    "Part 1 requires knowledge of basic Python.\n",
    "\n",
    "---"
   ]
  },
  {
   "cell_type": "markdown",
   "metadata": {},
   "source": [
    "### Contents:\n",
    "- [Background](#Background)\n",
    "- [Data Import & Cleaning](#Data-Import-and-Cleaning)\n",
    "- [Exploratory Data Analysis](#Exploratory-Data-Analysis)\n",
    "- [Data Visualization](#Visualize-the-Data)\n",
    "- [Conclusions and Recommendations](#Conclusions-and-Recommendations)"
   ]
  },
  {
   "cell_type": "markdown",
   "metadata": {},
   "source": [
    "## Background"
   ]
  },
  {
   "cell_type": "markdown",
   "metadata": {},
   "source": [
    "According to the [Meteorological Services Singapore](http://www.weather.gov.sg/climate-climate-of-singapore/#:~:text=Singapore%20is%20situated%20near%20the,month%2Dto%2Dmonth%20variation.), Singapore has typical tropical climate with adundant rainfall, high and uniform temperatures and high humidity all year round, since its situated near the equator. There are many factors that help us understand the climate of a country and in this project we are going to look into a few, especially rainfall.\n",
    "\n",
    "Singapore’s climate is characterised by two main monsoon seasons separated by inter-monsoonal periods.  The **Northeast Monsoon** occurs from December to early March, and the **Southwest Monsoon** from June to September.\n",
    "\n",
    "The major weather systems affecting Singapore that can lead to heavy rainfall are:\n",
    "\n",
    "-Monsoon surges, or strong wind episodes in the Northeast Monsoon flow bringing about major rainfall events;\n",
    "\n",
    "-Sumatra squalls, an organised line of thunderstorms travelling eastward across Singapore, having developed over the island of Sumatra or Straits of Malacca west of us;\n",
    "\n",
    "-Afternoon and evening thunderstorms caused by strong surface heating and by the sea breeze circulation that develops in the afternoon.\n",
    "\n",
    "Singapore’s climate station has been located at several different sites in the past 140 years. The station had been decommissioned at various points in the past due to changes to local land use in the site’s vicinity, and had to be relocated. Since 1984, the climate station has been located at **Changi**.\n",
    "\n",
    "There are other metrics of climate such as temperature, humidity, sun shine duration, wind speed, cloud cover etc. All the dataset used in the project comes from [data.gov.sg](data.gov.sg), as recorded at the Changi climate station \n"
   ]
  },
  {
   "cell_type": "markdown",
   "metadata": {},
   "source": [
    "### Choose your Data\n",
    "\n",
    "There are 2 datasets included in the [`data`](./data/) folder for this project. These correponds to rainfall information. \n",
    "\n",
    "* [`rainfall-monthly-number-of-rain-days.csv`](./data/rainfall-monthly-number-of-rain-days.csv): Monthly number of rain days from 1982 to 2022. A day is considered to have “rained” if the total rainfall for that day is 0.2mm or more.\n",
    "* [`rainfall-monthly-total.csv`](./data/rainfall-monthly-total.csv): Monthly total rain recorded in mm(millimeters) from 1982 to 2022\n",
    "\n",
    "Other relevant weather datasets from [data.gov.sg](data.gov.sg) that you can download and use are as follows:\n",
    "\n",
    "* [Relative Humidity](https://data.gov.sg/dataset/relative-humidity-monthly-mean)\n",
    "* [Monthly Maximum Daily Rainfall](https://data.gov.sg/dataset/rainfall-monthly-maximum-daily-total)\n",
    "* [Hourly wet buld temperature](https://data.gov.sg/dataset/wet-bulb-temperature-hourly)\n",
    "* [Monthly mean sunshine hours](https://data.gov.sg/dataset/sunshine-duration-monthly-mean-daily-duration)\n",
    "* [Surface Air Temperature](https://data.gov.sg/dataset/surface-air-temperature-mean-daily-minimum)\n",
    "\n",
    "You can also use other datasets for your analysis, make sure to cite the source when you are using them"
   ]
  },
  {
   "cell_type": "markdown",
   "metadata": {},
   "source": [
    "* [`Hosp_visits_monthly.csv`](./projects/project_1/data/Healthcare/Hosp_visits_monthly.csv): Hospital admissions in monthly\n",
    "* [`Hospital_visits.xlsx`](./projects/project_1/data/Healthcare/Hospital_visits.xlsx): Hospital admissions in yearly\n",
    "* [`Mortality_rate.xlsx`](./projects/project_1/data/Healthcare/Mortality_rate.xlsx): Death and life expectancy of various categories\n",
    "* [`historical-24-hr-psi.csv`](./projects/project_1/data/Healthcare/historical-24-hr-psi.csv): Historical data of PSI levels at different regions in Singapore"
   ]
  },
  {
   "cell_type": "markdown",
   "metadata": {},
   "source": [
    "## Problem Statement"
   ]
  },
  {
   "cell_type": "markdown",
   "metadata": {},
   "source": [
    "_We are a group of data scientists working for the Singapore Health Promotion Board who is responsible for developing and organising health promotion and disease prevention programmes. The Health Promotion Board aims to empower Singaporeans to attain optimal health, increase the quality and years of healthy life and prevent illness, disability and premature death._\n",
    "\n",
    "_We have been tasked by Health Promotion Board to explore if rainy seasons has a correlation with mortality rate and hospital visits. This would allow Health Promotion Board to make informed decisions and develop targeted interventions during rainy seasons to address any potential health risks. By understanding the relationship between rainy seasons and mortality rates or hospital visits, the Health Promotion Board can implement preventive measures, allocate resources effectively, and develop appropriate health promotion campaigns._"
   ]
  },
  {
   "cell_type": "markdown",
   "metadata": {},
   "source": [
    "### Outside Research"
   ]
  },
  {
   "cell_type": "markdown",
   "metadata": {},
   "source": [
    "Ambient air pollution presents a significant risk to global health, contributing to the development of both acute and chronic diseases. It poses serious threats to populations worldwide. Studies using time-series data have demonstrated the detrimental impact of air pollution on cardiovascular and respiratory mortality in Asia. These findings have significant implications for public health and underscore the urgent need to address air quality issues in the region. ([*source*](https://www.mdpi.com/2073-4433/11/1/9))"
   ]
  },
  {
   "cell_type": "markdown",
   "metadata": {},
   "source": [
    "Rain can have an impact on air quality. Rainfall can help improve air quality by acting as a natural cleanser that helps remove pollutants from the atmosphere. \n",
    "While rain can temporarily improve air quality by removing pollutants, long-term solutions such as reducing pollutant emissions, improving air pollution control measures, and promoting sustainable practices are essential for addressing air quality challenges effectively."
   ]
  },
  {
   "cell_type": "markdown",
   "metadata": {},
   "source": [
    "### Coding Challenges\n",
    "\n",
    "1. Manually calculate mean:\n",
    "\n",
    "    Write a function that takes in values and returns the mean of the values. Create a list of numbers that you test on your function to check to make sure your function works!\n",
    "    \n",
    "    *Note*: Do not use any mean methods built-in to any Python libraries to do this! This should be done without importing any additional libraries."
   ]
  },
  {
   "cell_type": "code",
   "execution_count": 1,
   "metadata": {},
   "outputs": [
    {
     "name": "stdout",
     "output_type": "stream",
     "text": [
      "3.0\n"
     ]
    }
   ],
   "source": [
    "# Code:\n",
    "def calculate_mean(values):\n",
    "    n = len(values)\n",
    "    total = sum(values)\n",
    "    mean = total / n\n",
    "    return mean\n",
    "\n",
    "# Test the function\n",
    "data = [1, 2, 3, 4, 5]\n",
    "mean_value = calculate_mean(data)\n",
    "print(mean_value)"
   ]
  },
  {
   "cell_type": "markdown",
   "metadata": {},
   "source": [
    "2. Manually calculate standard deviation:\n",
    "\n",
    "    The formula for standard deviation is below:\n",
    "\n",
    "    $$\\sigma = \\sqrt{\\frac{1}{n}\\sum_{i=1}^n(x_i - \\mu)^2}$$\n",
    "\n",
    "    Where $x_i$ represents each value in the dataset, $\\mu$ represents the mean of all values in the dataset and $n$ represents the number of values in the dataset.\n",
    "\n",
    "    Write a function that takes in values and returns the standard deviation of the values using the formula above. Hint: use the function you wrote above to calculate the mean! Use the list of numbers you created above to test on your function.\n",
    "    \n",
    "    *Note*: Do not use any standard deviation methods built-in to any Python libraries to do this! This should be done without importing any additional libraries."
   ]
  },
  {
   "cell_type": "code",
   "execution_count": 2,
   "metadata": {},
   "outputs": [
    {
     "name": "stdout",
     "output_type": "stream",
     "text": [
      "1.4142135623730951\n"
     ]
    }
   ],
   "source": [
    "# Code:\n",
    "def calculate_std_dev(values):\n",
    "    n = len(values)\n",
    "    mean = sum(values) / n\n",
    "    sum_squares = sum((x - mean) ** 2 for x in values)\n",
    "    std_dev = (sum_squares / n) ** 0.5\n",
    "    return std_dev\n",
    "\n",
    "# Test the function\n",
    "data = [1, 2, 3, 4, 5]\n",
    "std_deviation = calculate_std_dev(data)\n",
    "print(std_deviation)"
   ]
  },
  {
   "cell_type": "markdown",
   "metadata": {},
   "source": [
    "--- \n",
    "# Part 2\n",
    "\n",
    "Part 2 requires knowledge of Pandas, EDA, data cleaning, and data visualization.\n",
    "\n",
    "---"
   ]
  },
  {
   "cell_type": "markdown",
   "metadata": {},
   "source": [
    "*All libraries used should be added here*"
   ]
  },
  {
   "cell_type": "code",
   "execution_count": 3,
   "metadata": {},
   "outputs": [],
   "source": [
    "# pip install openpyxl"
   ]
  },
  {
   "cell_type": "code",
   "execution_count": 4,
   "metadata": {},
   "outputs": [],
   "source": [
    "# Imports:\n",
    "import pandas as pd\n",
    "import numpy as np\n",
    "import matplotlib.pyplot as plt\n",
    "import seaborn as sns"
   ]
  },
  {
   "cell_type": "markdown",
   "metadata": {},
   "source": [
    "## Data Import and Cleaning"
   ]
  },
  {
   "cell_type": "markdown",
   "metadata": {},
   "source": [
    "### Data Import & Cleaning\n",
    "\n",
    "Import all the datasets that you selected for this project and go through the following steps at a minimum. You are welcome to do further cleaning as you feel necessary. Make sure to comment your code to showcase the intent behind the data processing step.\n",
    "1. Display the data: print the first 5 rows of each dataframe to your Jupyter notebook.\n",
    "2. Check for missing values and datatype.\n",
    "3. Check for any obvious issues with the observations.\n",
    "4. Fix any errors you identified in steps 2-3.\n",
    "6. Fix any incorrect data types found in step 5.\n",
    "    - Fix any individual values preventing other columns from being the appropriate type.\n",
    "    - If the month column data is better analyzed as month and year, create new columns for the same\n",
    "7. Rename Columns.\n",
    "    - Column names should be all lowercase.\n",
    "    - Column names should not contain spaces (underscores will suffice--this allows for using the `df.column_name` method to access columns in addition to `df['column_name']`).\n",
    "    - Column names should be unique and informative.\n",
    "8. Drop unnecessary rows (if needed).\n",
    "9. Merge dataframes that can be merged.\n",
    "    - Since different climate metrics are in month format, you can merge them into one single dataframe for easier analysis\n",
    "10. Perform any additional cleaning that you feel is necessary.\n",
    "11. Save your cleaned and merged dataframes as csv files."
   ]
  },
  {
   "cell_type": "markdown",
   "metadata": {},
   "source": [
    "### Reading of files "
   ]
  },
  {
   "cell_type": "code",
   "execution_count": 5,
   "metadata": {},
   "outputs": [],
   "source": [
    "# Read files\n",
    "no_of_rainy_days = pd.read_csv(\"../data/Healthcare/rainfall-monthly-number-of-rain-days.csv\")\n",
    "total_rain = pd.read_csv(\"../data/Healthcare/rainfall-monthly-total.csv\")\n",
    "psi = pd.read_csv(\"../data/Healthcare/historical-24-hr-psi.csv\")\n",
    "hosp_visits_monthly = pd.read_csv(\"../data/Healthcare/Hosp_visits_monthly.csv\")\n",
    "\n",
    "# Assigning these files to monthly\n",
    "no_of_rainy_days_monthly = no_of_rainy_days\n",
    "total_rain_monthly = total_rain \n",
    "psi_monthly = psi\n",
    "\n",
    "# Read specific rows from sheet 5 of the Excel file\n",
    "death_by_causes = pd.read_excel('../data/Healthcare/Mortality_rate.xlsx', sheet_name=5, skiprows=10, nrows=24)\n",
    "# Read specific rows from sheet 6 of the Excel file\n",
    "death_by_age = pd.read_excel('../data/Healthcare/Mortality_rate.xlsx', sheet_name=6, skiprows=10, nrows=76)\n",
    "# Read specific rows of the Excel file\n",
    "hospital_visits = pd.read_excel('../data/Healthcare/Hospital_visits.xlsx', skiprows=2, nrows=22)\n"
   ]
  },
  {
   "cell_type": "markdown",
   "metadata": {},
   "source": [
    "### Cleaning monthly datasets"
   ]
  },
  {
   "cell_type": "code",
   "execution_count": 6,
   "metadata": {},
   "outputs": [
    {
     "data": {
      "text/html": [
       "<div>\n",
       "<style scoped>\n",
       "    .dataframe tbody tr th:only-of-type {\n",
       "        vertical-align: middle;\n",
       "    }\n",
       "\n",
       "    .dataframe tbody tr th {\n",
       "        vertical-align: top;\n",
       "    }\n",
       "\n",
       "    .dataframe thead th {\n",
       "        text-align: right;\n",
       "    }\n",
       "</style>\n",
       "<table border=\"1\" class=\"dataframe\">\n",
       "  <thead>\n",
       "    <tr style=\"text-align: right;\">\n",
       "      <th></th>\n",
       "      <th>month</th>\n",
       "      <th>no_of_rainy_days</th>\n",
       "    </tr>\n",
       "  </thead>\n",
       "  <tbody>\n",
       "    <tr>\n",
       "      <th>0</th>\n",
       "      <td>1982-01</td>\n",
       "      <td>10</td>\n",
       "    </tr>\n",
       "    <tr>\n",
       "      <th>1</th>\n",
       "      <td>1982-02</td>\n",
       "      <td>5</td>\n",
       "    </tr>\n",
       "    <tr>\n",
       "      <th>2</th>\n",
       "      <td>1982-03</td>\n",
       "      <td>11</td>\n",
       "    </tr>\n",
       "    <tr>\n",
       "      <th>3</th>\n",
       "      <td>1982-04</td>\n",
       "      <td>14</td>\n",
       "    </tr>\n",
       "    <tr>\n",
       "      <th>4</th>\n",
       "      <td>1982-05</td>\n",
       "      <td>10</td>\n",
       "    </tr>\n",
       "  </tbody>\n",
       "</table>\n",
       "</div>"
      ],
      "text/plain": [
       "     month  no_of_rainy_days\n",
       "0  1982-01                10\n",
       "1  1982-02                 5\n",
       "2  1982-03                11\n",
       "3  1982-04                14\n",
       "4  1982-05                10"
      ]
     },
     "execution_count": 6,
     "metadata": {},
     "output_type": "execute_result"
    }
   ],
   "source": [
    "no_of_rainy_days_monthly.head()"
   ]
  },
  {
   "cell_type": "code",
   "execution_count": 7,
   "metadata": {},
   "outputs": [
    {
     "data": {
      "text/html": [
       "<div>\n",
       "<style scoped>\n",
       "    .dataframe tbody tr th:only-of-type {\n",
       "        vertical-align: middle;\n",
       "    }\n",
       "\n",
       "    .dataframe tbody tr th {\n",
       "        vertical-align: top;\n",
       "    }\n",
       "\n",
       "    .dataframe thead th {\n",
       "        text-align: right;\n",
       "    }\n",
       "</style>\n",
       "<table border=\"1\" class=\"dataframe\">\n",
       "  <thead>\n",
       "    <tr style=\"text-align: right;\">\n",
       "      <th></th>\n",
       "      <th>month</th>\n",
       "      <th>total_rainfall</th>\n",
       "    </tr>\n",
       "  </thead>\n",
       "  <tbody>\n",
       "    <tr>\n",
       "      <th>0</th>\n",
       "      <td>1982-01</td>\n",
       "      <td>107.1</td>\n",
       "    </tr>\n",
       "    <tr>\n",
       "      <th>1</th>\n",
       "      <td>1982-02</td>\n",
       "      <td>27.8</td>\n",
       "    </tr>\n",
       "    <tr>\n",
       "      <th>2</th>\n",
       "      <td>1982-03</td>\n",
       "      <td>160.8</td>\n",
       "    </tr>\n",
       "    <tr>\n",
       "      <th>3</th>\n",
       "      <td>1982-04</td>\n",
       "      <td>157.0</td>\n",
       "    </tr>\n",
       "    <tr>\n",
       "      <th>4</th>\n",
       "      <td>1982-05</td>\n",
       "      <td>102.2</td>\n",
       "    </tr>\n",
       "  </tbody>\n",
       "</table>\n",
       "</div>"
      ],
      "text/plain": [
       "     month  total_rainfall\n",
       "0  1982-01           107.1\n",
       "1  1982-02            27.8\n",
       "2  1982-03           160.8\n",
       "3  1982-04           157.0\n",
       "4  1982-05           102.2"
      ]
     },
     "execution_count": 7,
     "metadata": {},
     "output_type": "execute_result"
    }
   ],
   "source": [
    "total_rain_monthly.head()"
   ]
  },
  {
   "cell_type": "markdown",
   "metadata": {},
   "source": [
    "#### Cleaning of psi_monthly"
   ]
  },
  {
   "cell_type": "code",
   "execution_count": 8,
   "metadata": {},
   "outputs": [
    {
     "data": {
      "text/html": [
       "<div>\n",
       "<style scoped>\n",
       "    .dataframe tbody tr th:only-of-type {\n",
       "        vertical-align: middle;\n",
       "    }\n",
       "\n",
       "    .dataframe tbody tr th {\n",
       "        vertical-align: top;\n",
       "    }\n",
       "\n",
       "    .dataframe thead th {\n",
       "        text-align: right;\n",
       "    }\n",
       "</style>\n",
       "<table border=\"1\" class=\"dataframe\">\n",
       "  <thead>\n",
       "    <tr style=\"text-align: right;\">\n",
       "      <th></th>\n",
       "      <th>month</th>\n",
       "      <th>north</th>\n",
       "      <th>south</th>\n",
       "      <th>east</th>\n",
       "      <th>west</th>\n",
       "      <th>central</th>\n",
       "    </tr>\n",
       "  </thead>\n",
       "  <tbody>\n",
       "    <tr>\n",
       "      <th>0</th>\n",
       "      <td>2014-01</td>\n",
       "      <td>55.451163</td>\n",
       "      <td>53.111628</td>\n",
       "      <td>51.637209</td>\n",
       "      <td>56.804651</td>\n",
       "      <td>53.869767</td>\n",
       "    </tr>\n",
       "    <tr>\n",
       "      <th>1</th>\n",
       "      <td>2014-02</td>\n",
       "      <td>58.305556</td>\n",
       "      <td>55.680556</td>\n",
       "      <td>55.592593</td>\n",
       "      <td>59.268519</td>\n",
       "      <td>56.879630</td>\n",
       "    </tr>\n",
       "    <tr>\n",
       "      <th>2</th>\n",
       "      <td>2014-03</td>\n",
       "      <td>63.467593</td>\n",
       "      <td>62.490741</td>\n",
       "      <td>60.041667</td>\n",
       "      <td>65.578704</td>\n",
       "      <td>61.305556</td>\n",
       "    </tr>\n",
       "    <tr>\n",
       "      <th>3</th>\n",
       "      <td>2014-04</td>\n",
       "      <td>63.087963</td>\n",
       "      <td>59.631173</td>\n",
       "      <td>60.220679</td>\n",
       "      <td>61.885802</td>\n",
       "      <td>60.941358</td>\n",
       "    </tr>\n",
       "    <tr>\n",
       "      <th>4</th>\n",
       "      <td>2014-05</td>\n",
       "      <td>56.236607</td>\n",
       "      <td>51.708333</td>\n",
       "      <td>51.205357</td>\n",
       "      <td>54.287202</td>\n",
       "      <td>53.367560</td>\n",
       "    </tr>\n",
       "  </tbody>\n",
       "</table>\n",
       "</div>"
      ],
      "text/plain": [
       "     month      north      south       east       west    central\n",
       "0  2014-01  55.451163  53.111628  51.637209  56.804651  53.869767\n",
       "1  2014-02  58.305556  55.680556  55.592593  59.268519  56.879630\n",
       "2  2014-03  63.467593  62.490741  60.041667  65.578704  61.305556\n",
       "3  2014-04  63.087963  59.631173  60.220679  61.885802  60.941358\n",
       "4  2014-05  56.236607  51.708333  51.205357  54.287202  53.367560"
      ]
     },
     "execution_count": 8,
     "metadata": {},
     "output_type": "execute_result"
    }
   ],
   "source": [
    "psi_monthly['24-hr_psi'] = pd.to_datetime(psi_monthly['24-hr_psi']) # Changing to datetime type\n",
    "psi_monthly['month'] = psi_monthly['24-hr_psi'].dt.month # Creating a new column with the months\n",
    "psi_monthly['year'] = psi_monthly['24-hr_psi'].dt.year #Creating a new column with the years\n",
    "psi_monthly['month'] = psi_monthly['year'].astype(str) + '-' + psi_monthly['month'].astype(str).str.zfill(2) # Combining Year-Month into month column\n",
    "psi_monthly = psi_monthly.sort_values('month') # Sorting the order of the month\n",
    "psi_monthly = psi_monthly.groupby('month').mean(numeric_only = True) # Grouping into month per row\n",
    "psi_monthly = psi_monthly.drop('year', axis=1) # Drop year column\n",
    "psi_monthly = psi_monthly.reset_index() # Remove index\n",
    "psi_monthly.head()"
   ]
  },
  {
   "cell_type": "markdown",
   "metadata": {},
   "source": [
    "#### Cleaning of hosp_visits_monthly"
   ]
  },
  {
   "cell_type": "code",
   "execution_count": 9,
   "metadata": {},
   "outputs": [
    {
     "data": {
      "text/html": [
       "<div>\n",
       "<style scoped>\n",
       "    .dataframe tbody tr th:only-of-type {\n",
       "        vertical-align: middle;\n",
       "    }\n",
       "\n",
       "    .dataframe tbody tr th {\n",
       "        vertical-align: top;\n",
       "    }\n",
       "\n",
       "    .dataframe thead th {\n",
       "        text-align: right;\n",
       "    }\n",
       "</style>\n",
       "<table border=\"1\" class=\"dataframe\">\n",
       "  <thead>\n",
       "    <tr style=\"text-align: right;\">\n",
       "      <th></th>\n",
       "      <th>month</th>\n",
       "      <th>public_admissions</th>\n",
       "    </tr>\n",
       "  </thead>\n",
       "  <tbody>\n",
       "    <tr>\n",
       "      <th>437</th>\n",
       "      <td>1987-01</td>\n",
       "      <td>18822</td>\n",
       "    </tr>\n",
       "    <tr>\n",
       "      <th>436</th>\n",
       "      <td>1987-02</td>\n",
       "      <td>19074</td>\n",
       "    </tr>\n",
       "    <tr>\n",
       "      <th>435</th>\n",
       "      <td>1987-03</td>\n",
       "      <td>22173</td>\n",
       "    </tr>\n",
       "    <tr>\n",
       "      <th>434</th>\n",
       "      <td>1987-04</td>\n",
       "      <td>19797</td>\n",
       "    </tr>\n",
       "    <tr>\n",
       "      <th>433</th>\n",
       "      <td>1987-05</td>\n",
       "      <td>19602</td>\n",
       "    </tr>\n",
       "  </tbody>\n",
       "</table>\n",
       "</div>"
      ],
      "text/plain": [
       "0      month public_admissions\n",
       "437  1987-01             18822\n",
       "436  1987-02             19074\n",
       "435  1987-03             22173\n",
       "434  1987-04             19797\n",
       "433  1987-05             19602"
      ]
     },
     "execution_count": 9,
     "metadata": {},
     "output_type": "execute_result"
    }
   ],
   "source": [
    "# Dropping rows\n",
    "hosp_visits_monthly = hosp_visits_monthly.drop(hosp_visits_monthly.index[0:8].append(hosp_visits_monthly.index[447:]))\n",
    "\n",
    "# Reset the index after dropping rows\n",
    "hosp_visits_monthly = hosp_visits_monthly.reset_index(drop=True) # Remove index\n",
    "hosp_visits_monthly.columns = hosp_visits_monthly.iloc[0] # Using column[0] as column\n",
    "hosp_visits_monthly = hosp_visits_monthly[1:] # Removing first row\n",
    "hosp_visits_monthly = hosp_visits_monthly.iloc[:, :2] # Removing all columns except column [0]\n",
    "hosp_visits_monthly = hosp_visits_monthly.rename(columns={'Public Sector Hospital Admissions (Number)': 'public_admissions'}) # Shortening the column name\n",
    "hosp_visits_monthly = hosp_visits_monthly.rename(columns={'Data Series': 'month'}) # Giving the month column a name\n",
    "hosp_visits_monthly.sort_index(ascending = False, inplace = True) # Sorting the order\n",
    "hosp_visits_monthly = hosp_visits_monthly.drop(hosp_visits_monthly.index[0:1]) # Dropping first row\n",
    "hosp_visits_monthly['month'] = pd.to_datetime(hosp_visits_monthly['month']).dt.strftime('%Y-%m') # Changing date to 1987-01 format\n",
    "\n",
    "hosp_visits_monthly.head()"
   ]
  },
  {
   "cell_type": "markdown",
   "metadata": {},
   "source": [
    "### Cleaning yearly datasets"
   ]
  },
  {
   "cell_type": "code",
   "execution_count": 10,
   "metadata": {},
   "outputs": [
    {
     "data": {
      "text/html": [
       "<div>\n",
       "<style scoped>\n",
       "    .dataframe tbody tr th:only-of-type {\n",
       "        vertical-align: middle;\n",
       "    }\n",
       "\n",
       "    .dataframe tbody tr th {\n",
       "        vertical-align: top;\n",
       "    }\n",
       "\n",
       "    .dataframe thead th {\n",
       "        text-align: right;\n",
       "    }\n",
       "</style>\n",
       "<table border=\"1\" class=\"dataframe\">\n",
       "  <thead>\n",
       "    <tr style=\"text-align: right;\">\n",
       "      <th></th>\n",
       "      <th>year</th>\n",
       "      <th>no_of_rainy_days</th>\n",
       "    </tr>\n",
       "  </thead>\n",
       "  <tbody>\n",
       "    <tr>\n",
       "      <th>0</th>\n",
       "      <td>1982</td>\n",
       "      <td>130</td>\n",
       "    </tr>\n",
       "    <tr>\n",
       "      <th>1</th>\n",
       "      <td>1983</td>\n",
       "      <td>145</td>\n",
       "    </tr>\n",
       "    <tr>\n",
       "      <th>2</th>\n",
       "      <td>1984</td>\n",
       "      <td>191</td>\n",
       "    </tr>\n",
       "    <tr>\n",
       "      <th>3</th>\n",
       "      <td>1985</td>\n",
       "      <td>181</td>\n",
       "    </tr>\n",
       "    <tr>\n",
       "      <th>4</th>\n",
       "      <td>1986</td>\n",
       "      <td>174</td>\n",
       "    </tr>\n",
       "  </tbody>\n",
       "</table>\n",
       "</div>"
      ],
      "text/plain": [
       "   year  no_of_rainy_days\n",
       "0  1982               130\n",
       "1  1983               145\n",
       "2  1984               191\n",
       "3  1985               181\n",
       "4  1986               174"
      ]
     },
     "execution_count": 10,
     "metadata": {},
     "output_type": "execute_result"
    }
   ],
   "source": [
    "# Code: Display\n",
    "\n",
    "# Convert the 'Datetime' column to datetime type\n",
    "no_of_rainy_days['datetime'] = pd.to_datetime(no_of_rainy_days['month'])\n",
    "\n",
    "# Extract the year information from the 'Datetime' column\n",
    "no_of_rainy_days['year'] = no_of_rainy_days['datetime'].dt.year\n",
    "\n",
    "# Sum the data by years\n",
    "no_of_rainy_days_yearly = no_of_rainy_days.groupby('year').sum(numeric_only = True)\n",
    "no_of_rainy_days_yearly = no_of_rainy_days_yearly.reset_index() # Reset the index\n",
    "\n",
    "no_of_rainy_days_yearly.head()"
   ]
  },
  {
   "cell_type": "code",
   "execution_count": 11,
   "metadata": {},
   "outputs": [
    {
     "name": "stdout",
     "output_type": "stream",
     "text": [
      "<class 'pandas.core.frame.DataFrame'>\n",
      "RangeIndex: 41 entries, 0 to 40\n",
      "Data columns (total 2 columns):\n",
      " #   Column            Non-Null Count  Dtype\n",
      "---  ------            --------------  -----\n",
      " 0   year              41 non-null     int64\n",
      " 1   no_of_rainy_days  41 non-null     int64\n",
      "dtypes: int64(2)\n",
      "memory usage: 784.0 bytes\n"
     ]
    }
   ],
   "source": [
    "no_of_rainy_days_yearly.info()"
   ]
  },
  {
   "cell_type": "code",
   "execution_count": 12,
   "metadata": {},
   "outputs": [
    {
     "data": {
      "text/html": [
       "<div>\n",
       "<style scoped>\n",
       "    .dataframe tbody tr th:only-of-type {\n",
       "        vertical-align: middle;\n",
       "    }\n",
       "\n",
       "    .dataframe tbody tr th {\n",
       "        vertical-align: top;\n",
       "    }\n",
       "\n",
       "    .dataframe thead th {\n",
       "        text-align: right;\n",
       "    }\n",
       "</style>\n",
       "<table border=\"1\" class=\"dataframe\">\n",
       "  <thead>\n",
       "    <tr style=\"text-align: right;\">\n",
       "      <th></th>\n",
       "      <th>year</th>\n",
       "      <th>total_rainfall</th>\n",
       "    </tr>\n",
       "  </thead>\n",
       "  <tbody>\n",
       "    <tr>\n",
       "      <th>0</th>\n",
       "      <td>1982</td>\n",
       "      <td>1581.7</td>\n",
       "    </tr>\n",
       "    <tr>\n",
       "      <th>1</th>\n",
       "      <td>1983</td>\n",
       "      <td>1993.7</td>\n",
       "    </tr>\n",
       "    <tr>\n",
       "      <th>2</th>\n",
       "      <td>1984</td>\n",
       "      <td>2686.7</td>\n",
       "    </tr>\n",
       "    <tr>\n",
       "      <th>3</th>\n",
       "      <td>1985</td>\n",
       "      <td>1483.9</td>\n",
       "    </tr>\n",
       "    <tr>\n",
       "      <th>4</th>\n",
       "      <td>1986</td>\n",
       "      <td>2536.1</td>\n",
       "    </tr>\n",
       "  </tbody>\n",
       "</table>\n",
       "</div>"
      ],
      "text/plain": [
       "   year  total_rainfall\n",
       "0  1982          1581.7\n",
       "1  1983          1993.7\n",
       "2  1984          2686.7\n",
       "3  1985          1483.9\n",
       "4  1986          2536.1"
      ]
     },
     "execution_count": 12,
     "metadata": {},
     "output_type": "execute_result"
    }
   ],
   "source": [
    "# Convert the 'Datetime' column to datetime type\n",
    "total_rain['datetime'] = pd.to_datetime(total_rain['month'])\n",
    "\n",
    "# Extract the year information from the 'Datetime' column\n",
    "total_rain['year'] = total_rain['datetime'].dt.year\n",
    "\n",
    "# Sum the data by years\n",
    "total_rain_yearly = total_rain.groupby('year').sum(numeric_only = True)\n",
    "total_rain_yearly = total_rain_yearly.reset_index() # Reset the index\n",
    "\n",
    "\n",
    "total_rain_yearly.head()"
   ]
  },
  {
   "cell_type": "code",
   "execution_count": 13,
   "metadata": {},
   "outputs": [
    {
     "name": "stdout",
     "output_type": "stream",
     "text": [
      "<class 'pandas.core.frame.DataFrame'>\n",
      "RangeIndex: 41 entries, 0 to 40\n",
      "Data columns (total 2 columns):\n",
      " #   Column          Non-Null Count  Dtype  \n",
      "---  ------          --------------  -----  \n",
      " 0   year            41 non-null     int64  \n",
      " 1   total_rainfall  41 non-null     float64\n",
      "dtypes: float64(1), int64(1)\n",
      "memory usage: 784.0 bytes\n"
     ]
    }
   ],
   "source": [
    "total_rain_yearly.info()"
   ]
  },
  {
   "cell_type": "code",
   "execution_count": 14,
   "metadata": {},
   "outputs": [
    {
     "data": {
      "text/html": [
       "<div>\n",
       "<style scoped>\n",
       "    .dataframe tbody tr th:only-of-type {\n",
       "        vertical-align: middle;\n",
       "    }\n",
       "\n",
       "    .dataframe tbody tr th {\n",
       "        vertical-align: top;\n",
       "    }\n",
       "\n",
       "    .dataframe thead th {\n",
       "        text-align: right;\n",
       "    }\n",
       "</style>\n",
       "<table border=\"1\" class=\"dataframe\">\n",
       "  <thead>\n",
       "    <tr style=\"text-align: right;\">\n",
       "      <th></th>\n",
       "      <th>year</th>\n",
       "      <th>north</th>\n",
       "      <th>south</th>\n",
       "      <th>east</th>\n",
       "      <th>west</th>\n",
       "      <th>central</th>\n",
       "    </tr>\n",
       "  </thead>\n",
       "  <tbody>\n",
       "    <tr>\n",
       "      <th>0</th>\n",
       "      <td>2014</td>\n",
       "      <td>56.412638</td>\n",
       "      <td>54.805274</td>\n",
       "      <td>54.801637</td>\n",
       "      <td>57.248674</td>\n",
       "      <td>54.194726</td>\n",
       "    </tr>\n",
       "    <tr>\n",
       "      <th>1</th>\n",
       "      <td>2015</td>\n",
       "      <td>62.502740</td>\n",
       "      <td>62.880822</td>\n",
       "      <td>62.933333</td>\n",
       "      <td>65.582991</td>\n",
       "      <td>58.274087</td>\n",
       "    </tr>\n",
       "    <tr>\n",
       "      <th>2</th>\n",
       "      <td>2016</td>\n",
       "      <td>53.841075</td>\n",
       "      <td>51.736339</td>\n",
       "      <td>50.436362</td>\n",
       "      <td>49.148110</td>\n",
       "      <td>50.490323</td>\n",
       "    </tr>\n",
       "    <tr>\n",
       "      <th>3</th>\n",
       "      <td>2017</td>\n",
       "      <td>52.183333</td>\n",
       "      <td>50.879338</td>\n",
       "      <td>50.023973</td>\n",
       "      <td>46.142922</td>\n",
       "      <td>47.094863</td>\n",
       "    </tr>\n",
       "    <tr>\n",
       "      <th>4</th>\n",
       "      <td>2018</td>\n",
       "      <td>52.567237</td>\n",
       "      <td>53.880023</td>\n",
       "      <td>51.160388</td>\n",
       "      <td>47.656164</td>\n",
       "      <td>52.549087</td>\n",
       "    </tr>\n",
       "  </tbody>\n",
       "</table>\n",
       "</div>"
      ],
      "text/plain": [
       "   year      north      south       east       west    central\n",
       "0  2014  56.412638  54.805274  54.801637  57.248674  54.194726\n",
       "1  2015  62.502740  62.880822  62.933333  65.582991  58.274087\n",
       "2  2016  53.841075  51.736339  50.436362  49.148110  50.490323\n",
       "3  2017  52.183333  50.879338  50.023973  46.142922  47.094863\n",
       "4  2018  52.567237  53.880023  51.160388  47.656164  52.549087"
      ]
     },
     "execution_count": 14,
     "metadata": {},
     "output_type": "execute_result"
    }
   ],
   "source": [
    "# Convert the 'Datetime' column to datetime type\n",
    "psi['datetime'] = pd.to_datetime(psi['24-hr_psi'])\n",
    "\n",
    "# Extract the year information from the 'Datetime' column\n",
    "psi['year'] = psi['datetime'].dt.year\n",
    "\n",
    "# Mean the data by years\n",
    "psi_yearly = psi.groupby('year').mean(numeric_only = True)\n",
    "psi_yearly = psi_yearly.reset_index() # Reset the index\n",
    "\n",
    "psi_yearly.head()"
   ]
  },
  {
   "cell_type": "code",
   "execution_count": 15,
   "metadata": {},
   "outputs": [
    {
     "name": "stdout",
     "output_type": "stream",
     "text": [
      "<class 'pandas.core.frame.DataFrame'>\n",
      "RangeIndex: 9 entries, 0 to 8\n",
      "Data columns (total 6 columns):\n",
      " #   Column   Non-Null Count  Dtype  \n",
      "---  ------   --------------  -----  \n",
      " 0   year     9 non-null      int64  \n",
      " 1   north    9 non-null      float64\n",
      " 2   south    9 non-null      float64\n",
      " 3   east     9 non-null      float64\n",
      " 4   west     9 non-null      float64\n",
      " 5   central  9 non-null      float64\n",
      "dtypes: float64(5), int64(1)\n",
      "memory usage: 560.0 bytes\n"
     ]
    }
   ],
   "source": [
    "psi_yearly.info()"
   ]
  },
  {
   "cell_type": "markdown",
   "metadata": {},
   "source": [
    "#### Cleaning of death_by_causes"
   ]
  },
  {
   "cell_type": "code",
   "execution_count": 16,
   "metadata": {},
   "outputs": [
    {
     "data": {
      "text/html": [
       "<div>\n",
       "<style scoped>\n",
       "    .dataframe tbody tr th:only-of-type {\n",
       "        vertical-align: middle;\n",
       "    }\n",
       "\n",
       "    .dataframe tbody tr th {\n",
       "        vertical-align: top;\n",
       "    }\n",
       "\n",
       "    .dataframe thead th {\n",
       "        text-align: right;\n",
       "    }\n",
       "</style>\n",
       "<table border=\"1\" class=\"dataframe\">\n",
       "  <thead>\n",
       "    <tr style=\"text-align: right;\">\n",
       "      <th></th>\n",
       "      <th>year</th>\n",
       "      <th>respiratory_deaths</th>\n",
       "    </tr>\n",
       "  </thead>\n",
       "  <tbody>\n",
       "    <tr>\n",
       "      <th>0</th>\n",
       "      <td>1969</td>\n",
       "      <td>1235</td>\n",
       "    </tr>\n",
       "    <tr>\n",
       "      <th>1</th>\n",
       "      <td>1970</td>\n",
       "      <td>1473</td>\n",
       "    </tr>\n",
       "    <tr>\n",
       "      <th>2</th>\n",
       "      <td>1971</td>\n",
       "      <td>1502</td>\n",
       "    </tr>\n",
       "    <tr>\n",
       "      <th>3</th>\n",
       "      <td>1972</td>\n",
       "      <td>1653</td>\n",
       "    </tr>\n",
       "    <tr>\n",
       "      <th>4</th>\n",
       "      <td>1973</td>\n",
       "      <td>1663</td>\n",
       "    </tr>\n",
       "  </tbody>\n",
       "</table>\n",
       "</div>"
      ],
      "text/plain": [
       "   year  respiratory_deaths\n",
       "0  1969                1235\n",
       "1  1970                1473\n",
       "2  1971                1502\n",
       "3  1972                1653\n",
       "4  1973                1663"
      ]
     },
     "execution_count": 16,
     "metadata": {},
     "output_type": "execute_result"
    }
   ],
   "source": [
    "# Display the DataFrame\n",
    "death_by_causes = death_by_causes.T  # Transposing for readability\n",
    "death_by_causes.columns = death_by_causes.iloc[0] # Replacing column header with first row\n",
    "death_by_causes = death_by_causes[1:] # Removing first row\n",
    "death_by_causes.columns = death_by_causes.columns.str.lower() # Lowercasing the column headers\n",
    "death_by_causes = death_by_causes.sort_index() # Sorting the years in ascending order\n",
    "death_by_causes = death_by_causes.replace('na', np.nan) # Replacing Str of NaN into NaN\n",
    "death_by_causes.columns.name = None # Renaming index to year\n",
    "death_by_causes = death_by_causes.reset_index()\n",
    "death_by_causes = death_by_causes.rename(columns={'index': 'year'})\n",
    "death_by_causes = death_by_causes[['year', '  diseases of the respiratory system']]\n",
    "death_by_causes = death_by_causes.rename(columns={'  diseases of the respiratory system': 'respiratory_deaths'})\n",
    "death_by_causes['year'] = death_by_causes['year'].astype(int)\n",
    "death_by_causes.head()"
   ]
  },
  {
   "cell_type": "code",
   "execution_count": 17,
   "metadata": {},
   "outputs": [
    {
     "name": "stdout",
     "output_type": "stream",
     "text": [
      "<class 'pandas.core.frame.DataFrame'>\n",
      "RangeIndex: 54 entries, 0 to 53\n",
      "Data columns (total 2 columns):\n",
      " #   Column              Non-Null Count  Dtype\n",
      "---  ------              --------------  -----\n",
      " 0   year                54 non-null     int64\n",
      " 1   respiratory_deaths  54 non-null     int64\n",
      "dtypes: int64(2)\n",
      "memory usage: 992.0 bytes\n"
     ]
    }
   ],
   "source": [
    "death_by_causes.info()"
   ]
  },
  {
   "cell_type": "markdown",
   "metadata": {},
   "source": [
    "#### Cleaning of death_by_age"
   ]
  },
  {
   "cell_type": "code",
   "execution_count": 18,
   "metadata": {},
   "outputs": [
    {
     "data": {
      "text/html": [
       "<div>\n",
       "<style scoped>\n",
       "    .dataframe tbody tr th:only-of-type {\n",
       "        vertical-align: middle;\n",
       "    }\n",
       "\n",
       "    .dataframe tbody tr th {\n",
       "        vertical-align: top;\n",
       "    }\n",
       "\n",
       "    .dataframe thead th {\n",
       "        text-align: right;\n",
       "    }\n",
       "</style>\n",
       "<table border=\"1\" class=\"dataframe\">\n",
       "  <thead>\n",
       "    <tr style=\"text-align: right;\">\n",
       "      <th></th>\n",
       "      <th>year</th>\n",
       "      <th>total_death_rate</th>\n",
       "    </tr>\n",
       "  </thead>\n",
       "  <tbody>\n",
       "    <tr>\n",
       "      <th>0</th>\n",
       "      <td>1960</td>\n",
       "      <td>6.2</td>\n",
       "    </tr>\n",
       "    <tr>\n",
       "      <th>1</th>\n",
       "      <td>1961</td>\n",
       "      <td>5.9</td>\n",
       "    </tr>\n",
       "    <tr>\n",
       "      <th>2</th>\n",
       "      <td>1962</td>\n",
       "      <td>5.8</td>\n",
       "    </tr>\n",
       "    <tr>\n",
       "      <th>3</th>\n",
       "      <td>1963</td>\n",
       "      <td>5.6</td>\n",
       "    </tr>\n",
       "    <tr>\n",
       "      <th>4</th>\n",
       "      <td>1964</td>\n",
       "      <td>5.7</td>\n",
       "    </tr>\n",
       "  </tbody>\n",
       "</table>\n",
       "</div>"
      ],
      "text/plain": [
       "   year  total_death_rate\n",
       "0  1960               6.2\n",
       "1  1961               5.9\n",
       "2  1962               5.8\n",
       "3  1963               5.6\n",
       "4  1964               5.7"
      ]
     },
     "execution_count": 18,
     "metadata": {},
     "output_type": "execute_result"
    }
   ],
   "source": [
    "death_by_age = death_by_age.T  # Transposing for readability\n",
    "death_by_age.columns = death_by_age.iloc[0] # Replacing column header with first row\n",
    "death_by_age = death_by_age[1:] # Removing first row\n",
    "death_by_age.columns = death_by_age.columns.str.lower() # Lowercasing the column headers\n",
    "death_by_age = death_by_age.sort_index() # Sorting the years in ascending order\n",
    "death_by_age = death_by_age.replace('-', np.nan) # Replacing Str of NaN into NaN\n",
    "death_by_age = death_by_age.replace('na', np.nan) # Replacing Str of NaN into NaN\n",
    "death_by_age.columns.name = None # Renaming index to year\n",
    "death_by_age = (death_by_age.iloc[:,0]) # Selecting the death rate column only\n",
    "death_by_age = death_by_age.reset_index() # Reset the index\n",
    "death_by_age = death_by_age.rename(columns={'index': 'year'}) # Naming the first column\n",
    "death_by_age['year'] = death_by_age['year'].astype(int)  # Changing year to type(int)\n",
    "death_by_age = death_by_age.rename(columns={'total age specific death rate': 'total_death_rate'}) # shorten and snake case the column\n",
    "death_by_age.head()"
   ]
  },
  {
   "cell_type": "code",
   "execution_count": 19,
   "metadata": {},
   "outputs": [
    {
     "name": "stdout",
     "output_type": "stream",
     "text": [
      "<class 'pandas.core.frame.DataFrame'>\n",
      "RangeIndex: 63 entries, 0 to 62\n",
      "Data columns (total 2 columns):\n",
      " #   Column            Non-Null Count  Dtype  \n",
      "---  ------            --------------  -----  \n",
      " 0   year              63 non-null     int64  \n",
      " 1   total_death_rate  63 non-null     float64\n",
      "dtypes: float64(1), int64(1)\n",
      "memory usage: 1.1 KB\n"
     ]
    }
   ],
   "source": [
    "death_by_age.info()"
   ]
  },
  {
   "cell_type": "markdown",
   "metadata": {},
   "source": [
    "#### Cleaning of hospital_visits, splitting it into various Dataframes of each categories"
   ]
  },
  {
   "cell_type": "code",
   "execution_count": 20,
   "metadata": {},
   "outputs": [
    {
     "data": {
      "text/html": [
       "<div>\n",
       "<style scoped>\n",
       "    .dataframe tbody tr th:only-of-type {\n",
       "        vertical-align: middle;\n",
       "    }\n",
       "\n",
       "    .dataframe tbody tr th {\n",
       "        vertical-align: top;\n",
       "    }\n",
       "\n",
       "    .dataframe thead th {\n",
       "        text-align: right;\n",
       "    }\n",
       "</style>\n",
       "<table border=\"1\" class=\"dataframe\">\n",
       "  <thead>\n",
       "    <tr style=\"text-align: right;\">\n",
       "      <th></th>\n",
       "      <th>Unnamed: 0</th>\n",
       "      <th>Unnamed: 1</th>\n",
       "      <th>Unnamed: 2</th>\n",
       "      <th>Unnamed: 3</th>\n",
       "      <th>Unnamed: 4</th>\n",
       "      <th>Unnamed: 5</th>\n",
       "      <th>Unnamed: 6</th>\n",
       "      <th>2006</th>\n",
       "      <th>2007</th>\n",
       "      <th>2008</th>\n",
       "      <th>...</th>\n",
       "      <th>2011</th>\n",
       "      <th>2012</th>\n",
       "      <th>2013</th>\n",
       "      <th>2014</th>\n",
       "      <th>2015</th>\n",
       "      <th>2016</th>\n",
       "      <th>2017</th>\n",
       "      <th>2018</th>\n",
       "      <th>2019p</th>\n",
       "      <th>2020p</th>\n",
       "    </tr>\n",
       "  </thead>\n",
       "  <tbody>\n",
       "    <tr>\n",
       "      <th>0</th>\n",
       "      <td>NaN</td>\n",
       "      <td>NaN</td>\n",
       "      <td>NaN</td>\n",
       "      <td>NaN</td>\n",
       "      <td>NaN</td>\n",
       "      <td>NaN</td>\n",
       "      <td>NaN</td>\n",
       "      <td>NaN</td>\n",
       "      <td>NaN</td>\n",
       "      <td>NaN</td>\n",
       "      <td>...</td>\n",
       "      <td>NaN</td>\n",
       "      <td>NaN</td>\n",
       "      <td>NaN</td>\n",
       "      <td>NaN</td>\n",
       "      <td>NaN</td>\n",
       "      <td>NaN</td>\n",
       "      <td>NaN</td>\n",
       "      <td>NaN</td>\n",
       "      <td>NaN</td>\n",
       "      <td>NaN</td>\n",
       "    </tr>\n",
       "    <tr>\n",
       "      <th>1</th>\n",
       "      <td>NaN</td>\n",
       "      <td>·</td>\n",
       "      <td>Hospital Admissions 1</td>\n",
       "      <td>NaN</td>\n",
       "      <td>NaN</td>\n",
       "      <td>NaN</td>\n",
       "      <td>NaN</td>\n",
       "      <td>NaN</td>\n",
       "      <td>NaN</td>\n",
       "      <td>NaN</td>\n",
       "      <td>...</td>\n",
       "      <td>NaN</td>\n",
       "      <td>NaN</td>\n",
       "      <td>NaN</td>\n",
       "      <td>NaN</td>\n",
       "      <td>NaN</td>\n",
       "      <td>NaN</td>\n",
       "      <td>NaN</td>\n",
       "      <td>NaN</td>\n",
       "      <td>NaN</td>\n",
       "      <td>NaN</td>\n",
       "    </tr>\n",
       "    <tr>\n",
       "      <th>2</th>\n",
       "      <td>NaN</td>\n",
       "      <td>NaN</td>\n",
       "      <td>NaN</td>\n",
       "      <td>NaN</td>\n",
       "      <td>NaN</td>\n",
       "      <td>NaN</td>\n",
       "      <td>NaN</td>\n",
       "      <td>NaN</td>\n",
       "      <td>NaN</td>\n",
       "      <td>NaN</td>\n",
       "      <td>...</td>\n",
       "      <td>NaN</td>\n",
       "      <td>NaN</td>\n",
       "      <td>NaN</td>\n",
       "      <td>NaN</td>\n",
       "      <td>NaN</td>\n",
       "      <td>NaN</td>\n",
       "      <td>NaN</td>\n",
       "      <td>NaN</td>\n",
       "      <td>NaN</td>\n",
       "      <td>NaN</td>\n",
       "    </tr>\n",
       "    <tr>\n",
       "      <th>3</th>\n",
       "      <td>NaN</td>\n",
       "      <td>NaN</td>\n",
       "      <td>Acute Hospitals 2</td>\n",
       "      <td>NaN</td>\n",
       "      <td>NaN</td>\n",
       "      <td>NaN</td>\n",
       "      <td>NaN</td>\n",
       "      <td>NaN</td>\n",
       "      <td>NaN</td>\n",
       "      <td>NaN</td>\n",
       "      <td>...</td>\n",
       "      <td>NaN</td>\n",
       "      <td>NaN</td>\n",
       "      <td>NaN</td>\n",
       "      <td>NaN</td>\n",
       "      <td>NaN</td>\n",
       "      <td>NaN</td>\n",
       "      <td>NaN</td>\n",
       "      <td>NaN</td>\n",
       "      <td>NaN</td>\n",
       "      <td>NaN</td>\n",
       "    </tr>\n",
       "    <tr>\n",
       "      <th>4</th>\n",
       "      <td>NaN</td>\n",
       "      <td>NaN</td>\n",
       "      <td>·</td>\n",
       "      <td>Admissions</td>\n",
       "      <td>NaN</td>\n",
       "      <td>NaN</td>\n",
       "      <td>NaN</td>\n",
       "      <td>400636.0</td>\n",
       "      <td>413205.0</td>\n",
       "      <td>412200.0</td>\n",
       "      <td>...</td>\n",
       "      <td>446384.0</td>\n",
       "      <td>459902.0</td>\n",
       "      <td>474193.0</td>\n",
       "      <td>489574.0</td>\n",
       "      <td>499889.0</td>\n",
       "      <td>546256.0</td>\n",
       "      <td>568117.0</td>\n",
       "      <td>584819.0</td>\n",
       "      <td>618136.0</td>\n",
       "      <td>556511.0</td>\n",
       "    </tr>\n",
       "  </tbody>\n",
       "</table>\n",
       "<p>5 rows × 22 columns</p>\n",
       "</div>"
      ],
      "text/plain": [
       "   Unnamed: 0 Unnamed: 1             Unnamed: 2  Unnamed: 3  Unnamed: 4  \\\n",
       "0         NaN        NaN                    NaN         NaN         NaN   \n",
       "1         NaN          ·  Hospital Admissions 1         NaN         NaN   \n",
       "2         NaN        NaN                    NaN         NaN         NaN   \n",
       "3         NaN        NaN      Acute Hospitals 2         NaN         NaN   \n",
       "4         NaN        NaN                      ·  Admissions         NaN   \n",
       "\n",
       "  Unnamed: 5  Unnamed: 6      2006      2007      2008  ...      2011  \\\n",
       "0        NaN         NaN       NaN       NaN       NaN  ...       NaN   \n",
       "1        NaN         NaN       NaN       NaN       NaN  ...       NaN   \n",
       "2        NaN         NaN       NaN       NaN       NaN  ...       NaN   \n",
       "3        NaN         NaN       NaN       NaN       NaN  ...       NaN   \n",
       "4        NaN         NaN  400636.0  413205.0  412200.0  ...  446384.0   \n",
       "\n",
       "       2012      2013      2014      2015      2016      2017      2018  \\\n",
       "0       NaN       NaN       NaN       NaN       NaN       NaN       NaN   \n",
       "1       NaN       NaN       NaN       NaN       NaN       NaN       NaN   \n",
       "2       NaN       NaN       NaN       NaN       NaN       NaN       NaN   \n",
       "3       NaN       NaN       NaN       NaN       NaN       NaN       NaN   \n",
       "4  459902.0  474193.0  489574.0  499889.0  546256.0  568117.0  584819.0   \n",
       "\n",
       "      2019p     2020p  \n",
       "0       NaN       NaN  \n",
       "1       NaN       NaN  \n",
       "2       NaN       NaN  \n",
       "3       NaN       NaN  \n",
       "4  618136.0  556511.0  \n",
       "\n",
       "[5 rows x 22 columns]"
      ]
     },
     "execution_count": 20,
     "metadata": {},
     "output_type": "execute_result"
    }
   ],
   "source": [
    "# Raw dataframe of hospital_visits\n",
    "hospital_visits.head()"
   ]
  },
  {
   "cell_type": "code",
   "execution_count": 21,
   "metadata": {},
   "outputs": [],
   "source": [
    "# Adding headers to each segment of dataframe\n",
    "hospital_visits.iloc[4, 5] = 'total_admissions'\n",
    "\n",
    "# Dropping unnecessary rows and columns\n",
    "hospital_visits = hospital_visits.drop(hospital_visits.columns[:5], axis=1)\n",
    "hospital_visits = hospital_visits.drop(hospital_visits.columns[1], axis=1)\n",
    "hospital_visits = hospital_visits.drop(hospital_visits.index[:4], axis=0)"
   ]
  },
  {
   "cell_type": "code",
   "execution_count": 22,
   "metadata": {},
   "outputs": [],
   "source": [
    "# Spliting the dataFrame based on index\n",
    "total_visits = hospital_visits[:1]"
   ]
  },
  {
   "cell_type": "code",
   "execution_count": 23,
   "metadata": {},
   "outputs": [
    {
     "data": {
      "text/html": [
       "<div>\n",
       "<style scoped>\n",
       "    .dataframe tbody tr th:only-of-type {\n",
       "        vertical-align: middle;\n",
       "    }\n",
       "\n",
       "    .dataframe tbody tr th {\n",
       "        vertical-align: top;\n",
       "    }\n",
       "\n",
       "    .dataframe thead th {\n",
       "        text-align: right;\n",
       "    }\n",
       "</style>\n",
       "<table border=\"1\" class=\"dataframe\">\n",
       "  <thead>\n",
       "    <tr style=\"text-align: right;\">\n",
       "      <th></th>\n",
       "      <th>year</th>\n",
       "      <th>total_admissions</th>\n",
       "    </tr>\n",
       "  </thead>\n",
       "  <tbody>\n",
       "    <tr>\n",
       "      <th>0</th>\n",
       "      <td>2006</td>\n",
       "      <td>400636</td>\n",
       "    </tr>\n",
       "    <tr>\n",
       "      <th>1</th>\n",
       "      <td>2007</td>\n",
       "      <td>413205</td>\n",
       "    </tr>\n",
       "    <tr>\n",
       "      <th>2</th>\n",
       "      <td>2008</td>\n",
       "      <td>412200</td>\n",
       "    </tr>\n",
       "    <tr>\n",
       "      <th>3</th>\n",
       "      <td>2009</td>\n",
       "      <td>413592</td>\n",
       "    </tr>\n",
       "    <tr>\n",
       "      <th>4</th>\n",
       "      <td>2010</td>\n",
       "      <td>427305</td>\n",
       "    </tr>\n",
       "  </tbody>\n",
       "</table>\n",
       "</div>"
      ],
      "text/plain": [
       "   year  total_admissions\n",
       "0  2006            400636\n",
       "1  2007            413205\n",
       "2  2008            412200\n",
       "3  2009            413592\n",
       "4  2010            427305"
      ]
     },
     "execution_count": 23,
     "metadata": {},
     "output_type": "execute_result"
    }
   ],
   "source": [
    "# Further cleaning of each dataframes\n",
    "total_visits = total_visits.T  # Transposing for readability\n",
    "total_visits.columns = total_visits.iloc[0] # Replacing column header with first row\n",
    "total_visits = total_visits[1:] # Removing first row\n",
    "total_visits.columns.name = None # Renaming index to None\n",
    "total_visits = total_visits.rename(index={'2019p': '2019', '2020p': '2020'}) # Renaming weird names\n",
    "total_visits['total_admissions'] = total_visits['total_admissions'].astype(int) # Converting elements into floats\n",
    "total_visits = total_visits.reset_index() # Reset the index\n",
    "total_visits = total_visits.rename(columns={'index': 'year'}) # Naming the first column\n",
    "hospital_visits = total_visits # Assigning back to original dataframe\n",
    "hospital_visits['year'] = hospital_visits['year'].astype(int) # Converting from object to integer\n",
    "hospital_visits.head()"
   ]
  },
  {
   "cell_type": "code",
   "execution_count": 24,
   "metadata": {},
   "outputs": [
    {
     "name": "stdout",
     "output_type": "stream",
     "text": [
      "<class 'pandas.core.frame.DataFrame'>\n",
      "RangeIndex: 15 entries, 0 to 14\n",
      "Data columns (total 2 columns):\n",
      " #   Column            Non-Null Count  Dtype\n",
      "---  ------            --------------  -----\n",
      " 0   year              15 non-null     int64\n",
      " 1   total_admissions  15 non-null     int64\n",
      "dtypes: int64(2)\n",
      "memory usage: 368.0 bytes\n"
     ]
    }
   ],
   "source": [
    "hospital_visits.info()"
   ]
  },
  {
   "cell_type": "markdown",
   "metadata": {},
   "source": [
    "### Merging and Exporting"
   ]
  },
  {
   "cell_type": "code",
   "execution_count": 25,
   "metadata": {},
   "outputs": [
    {
     "data": {
      "text/html": [
       "<div>\n",
       "<style scoped>\n",
       "    .dataframe tbody tr th:only-of-type {\n",
       "        vertical-align: middle;\n",
       "    }\n",
       "\n",
       "    .dataframe tbody tr th {\n",
       "        vertical-align: top;\n",
       "    }\n",
       "\n",
       "    .dataframe thead th {\n",
       "        text-align: right;\n",
       "    }\n",
       "</style>\n",
       "<table border=\"1\" class=\"dataframe\">\n",
       "  <thead>\n",
       "    <tr style=\"text-align: right;\">\n",
       "      <th></th>\n",
       "      <th>month</th>\n",
       "      <th>public_admissions</th>\n",
       "      <th>total_rainfall</th>\n",
       "      <th>datetime_x</th>\n",
       "      <th>year_x</th>\n",
       "      <th>no_of_rainy_days</th>\n",
       "      <th>datetime_y</th>\n",
       "      <th>year_y</th>\n",
       "      <th>north</th>\n",
       "      <th>south</th>\n",
       "      <th>east</th>\n",
       "      <th>west</th>\n",
       "      <th>central</th>\n",
       "    </tr>\n",
       "  </thead>\n",
       "  <tbody>\n",
       "    <tr>\n",
       "      <th>0</th>\n",
       "      <td>2014-01</td>\n",
       "      <td>32050</td>\n",
       "      <td>75.4</td>\n",
       "      <td>2014-01-01</td>\n",
       "      <td>2014</td>\n",
       "      <td>5</td>\n",
       "      <td>2014-01-01</td>\n",
       "      <td>2014</td>\n",
       "      <td>55.451163</td>\n",
       "      <td>53.111628</td>\n",
       "      <td>51.637209</td>\n",
       "      <td>56.804651</td>\n",
       "      <td>53.869767</td>\n",
       "    </tr>\n",
       "    <tr>\n",
       "      <th>1</th>\n",
       "      <td>2014-02</td>\n",
       "      <td>28424</td>\n",
       "      <td>0.2</td>\n",
       "      <td>2014-02-01</td>\n",
       "      <td>2014</td>\n",
       "      <td>1</td>\n",
       "      <td>2014-02-01</td>\n",
       "      <td>2014</td>\n",
       "      <td>58.305556</td>\n",
       "      <td>55.680556</td>\n",
       "      <td>55.592593</td>\n",
       "      <td>59.268519</td>\n",
       "      <td>56.879630</td>\n",
       "    </tr>\n",
       "    <tr>\n",
       "      <th>2</th>\n",
       "      <td>2014-03</td>\n",
       "      <td>31853</td>\n",
       "      <td>66.0</td>\n",
       "      <td>2014-03-01</td>\n",
       "      <td>2014</td>\n",
       "      <td>6</td>\n",
       "      <td>2014-03-01</td>\n",
       "      <td>2014</td>\n",
       "      <td>63.467593</td>\n",
       "      <td>62.490741</td>\n",
       "      <td>60.041667</td>\n",
       "      <td>65.578704</td>\n",
       "      <td>61.305556</td>\n",
       "    </tr>\n",
       "    <tr>\n",
       "      <th>3</th>\n",
       "      <td>2014-04</td>\n",
       "      <td>31819</td>\n",
       "      <td>110.0</td>\n",
       "      <td>2014-04-01</td>\n",
       "      <td>2014</td>\n",
       "      <td>17</td>\n",
       "      <td>2014-04-01</td>\n",
       "      <td>2014</td>\n",
       "      <td>63.087963</td>\n",
       "      <td>59.631173</td>\n",
       "      <td>60.220679</td>\n",
       "      <td>61.885802</td>\n",
       "      <td>60.941358</td>\n",
       "    </tr>\n",
       "    <tr>\n",
       "      <th>4</th>\n",
       "      <td>2014-05</td>\n",
       "      <td>32531</td>\n",
       "      <td>125.8</td>\n",
       "      <td>2014-05-01</td>\n",
       "      <td>2014</td>\n",
       "      <td>18</td>\n",
       "      <td>2014-05-01</td>\n",
       "      <td>2014</td>\n",
       "      <td>56.236607</td>\n",
       "      <td>51.708333</td>\n",
       "      <td>51.205357</td>\n",
       "      <td>54.287202</td>\n",
       "      <td>53.367560</td>\n",
       "    </tr>\n",
       "  </tbody>\n",
       "</table>\n",
       "</div>"
      ],
      "text/plain": [
       "     month public_admissions  total_rainfall datetime_x  year_x  \\\n",
       "0  2014-01             32050            75.4 2014-01-01    2014   \n",
       "1  2014-02             28424             0.2 2014-02-01    2014   \n",
       "2  2014-03             31853            66.0 2014-03-01    2014   \n",
       "3  2014-04             31819           110.0 2014-04-01    2014   \n",
       "4  2014-05             32531           125.8 2014-05-01    2014   \n",
       "\n",
       "   no_of_rainy_days datetime_y  year_y      north      south       east  \\\n",
       "0                 5 2014-01-01    2014  55.451163  53.111628  51.637209   \n",
       "1                 1 2014-02-01    2014  58.305556  55.680556  55.592593   \n",
       "2                 6 2014-03-01    2014  63.467593  62.490741  60.041667   \n",
       "3                17 2014-04-01    2014  63.087963  59.631173  60.220679   \n",
       "4                18 2014-05-01    2014  56.236607  51.708333  51.205357   \n",
       "\n",
       "        west    central  \n",
       "0  56.804651  53.869767  \n",
       "1  59.268519  56.879630  \n",
       "2  65.578704  61.305556  \n",
       "3  61.885802  60.941358  \n",
       "4  54.287202  53.367560  "
      ]
     },
     "execution_count": 25,
     "metadata": {},
     "output_type": "execute_result"
    }
   ],
   "source": [
    "monthly_df = pd.merge(hosp_visits_monthly, total_rain_monthly, on = 'month').merge(no_of_rainy_days_monthly, on = 'month').merge(psi_monthly, on = 'month')\n",
    "monthly_df.shape\n",
    "monthly_df.head()"
   ]
  },
  {
   "cell_type": "code",
   "execution_count": 26,
   "metadata": {},
   "outputs": [
    {
     "data": {
      "text/html": [
       "<div>\n",
       "<style scoped>\n",
       "    .dataframe tbody tr th:only-of-type {\n",
       "        vertical-align: middle;\n",
       "    }\n",
       "\n",
       "    .dataframe tbody tr th {\n",
       "        vertical-align: top;\n",
       "    }\n",
       "\n",
       "    .dataframe thead th {\n",
       "        text-align: right;\n",
       "    }\n",
       "</style>\n",
       "<table border=\"1\" class=\"dataframe\">\n",
       "  <thead>\n",
       "    <tr style=\"text-align: right;\">\n",
       "      <th></th>\n",
       "      <th>year</th>\n",
       "      <th>total_admissions</th>\n",
       "      <th>total_death_rate</th>\n",
       "      <th>respiratory_deaths</th>\n",
       "      <th>total_rainfall</th>\n",
       "      <th>no_of_rainy_days</th>\n",
       "      <th>north</th>\n",
       "      <th>south</th>\n",
       "      <th>east</th>\n",
       "      <th>west</th>\n",
       "      <th>central</th>\n",
       "    </tr>\n",
       "  </thead>\n",
       "  <tbody>\n",
       "    <tr>\n",
       "      <th>0</th>\n",
       "      <td>2014</td>\n",
       "      <td>489574</td>\n",
       "      <td>4.7</td>\n",
       "      <td>4232</td>\n",
       "      <td>1538.4</td>\n",
       "      <td>152</td>\n",
       "      <td>56.412638</td>\n",
       "      <td>54.805274</td>\n",
       "      <td>54.801637</td>\n",
       "      <td>57.248674</td>\n",
       "      <td>54.194726</td>\n",
       "    </tr>\n",
       "    <tr>\n",
       "      <th>1</th>\n",
       "      <td>2015</td>\n",
       "      <td>499889</td>\n",
       "      <td>4.8</td>\n",
       "      <td>4417</td>\n",
       "      <td>1267.1</td>\n",
       "      <td>125</td>\n",
       "      <td>62.502740</td>\n",
       "      <td>62.880822</td>\n",
       "      <td>62.933333</td>\n",
       "      <td>65.582991</td>\n",
       "      <td>58.274087</td>\n",
       "    </tr>\n",
       "    <tr>\n",
       "      <th>2</th>\n",
       "      <td>2016</td>\n",
       "      <td>546256</td>\n",
       "      <td>4.8</td>\n",
       "      <td>4440</td>\n",
       "      <td>1955.7</td>\n",
       "      <td>179</td>\n",
       "      <td>53.841075</td>\n",
       "      <td>51.736339</td>\n",
       "      <td>50.436362</td>\n",
       "      <td>49.148110</td>\n",
       "      <td>50.490323</td>\n",
       "    </tr>\n",
       "    <tr>\n",
       "      <th>3</th>\n",
       "      <td>2017</td>\n",
       "      <td>568117</td>\n",
       "      <td>5.0</td>\n",
       "      <td>4757</td>\n",
       "      <td>2045.6</td>\n",
       "      <td>204</td>\n",
       "      <td>52.183333</td>\n",
       "      <td>50.879338</td>\n",
       "      <td>50.023973</td>\n",
       "      <td>46.142922</td>\n",
       "      <td>47.094863</td>\n",
       "    </tr>\n",
       "    <tr>\n",
       "      <th>4</th>\n",
       "      <td>2018</td>\n",
       "      <td>584819</td>\n",
       "      <td>5.0</td>\n",
       "      <td>4909</td>\n",
       "      <td>1708.2</td>\n",
       "      <td>188</td>\n",
       "      <td>52.567237</td>\n",
       "      <td>53.880023</td>\n",
       "      <td>51.160388</td>\n",
       "      <td>47.656164</td>\n",
       "      <td>52.549087</td>\n",
       "    </tr>\n",
       "  </tbody>\n",
       "</table>\n",
       "</div>"
      ],
      "text/plain": [
       "   year  total_admissions  total_death_rate  respiratory_deaths  \\\n",
       "0  2014            489574               4.7                4232   \n",
       "1  2015            499889               4.8                4417   \n",
       "2  2016            546256               4.8                4440   \n",
       "3  2017            568117               5.0                4757   \n",
       "4  2018            584819               5.0                4909   \n",
       "\n",
       "   total_rainfall  no_of_rainy_days      north      south       east  \\\n",
       "0          1538.4               152  56.412638  54.805274  54.801637   \n",
       "1          1267.1               125  62.502740  62.880822  62.933333   \n",
       "2          1955.7               179  53.841075  51.736339  50.436362   \n",
       "3          2045.6               204  52.183333  50.879338  50.023973   \n",
       "4          1708.2               188  52.567237  53.880023  51.160388   \n",
       "\n",
       "        west    central  \n",
       "0  57.248674  54.194726  \n",
       "1  65.582991  58.274087  \n",
       "2  49.148110  50.490323  \n",
       "3  46.142922  47.094863  \n",
       "4  47.656164  52.549087  "
      ]
     },
     "execution_count": 26,
     "metadata": {},
     "output_type": "execute_result"
    }
   ],
   "source": [
    "# Merging back to original Dataframe\n",
    "merged_df = pd.merge(hospital_visits, death_by_age, on = 'year').merge(death_by_causes, on = 'year').merge(total_rain_yearly, on = 'year').merge(no_of_rainy_days_yearly, on = 'year').merge(psi_yearly, on = 'year')\n",
    "merged_df.shape\n",
    "merged_df.head()"
   ]
  },
  {
   "cell_type": "code",
   "execution_count": 27,
   "metadata": {},
   "outputs": [],
   "source": [
    "# Export cleaned table to CSV\n",
    "merged_df.to_csv(\"../data/Healthcare/merged_df.csv\")\n",
    "monthly_df.to_csv(\"../data/Healthcare/monthly_df.csv\")\n"
   ]
  },
  {
   "cell_type": "markdown",
   "metadata": {},
   "source": [
    "### Data Dictionary\n",
    "\n",
    "Now that we've fixed our data, and given it appropriate names, let's create a [data dictionary](http://library.ucmerced.edu/node/10249). \n",
    "\n",
    "A data dictionary provides a quick overview of features/variables/columns, alongside data types and descriptions. The more descriptive you can be, the more useful this document is.\n",
    "\n",
    "Example of a Fictional Data Dictionary Entry: \n",
    "\n",
    "|Feature|Type|Dataset|Description|\n",
    "|---|---|---|---|\n",
    "|**county_pop**|*integer*|2010 census|The population of the county (units in thousands, where 2.5 represents 2500 people).| \n",
    "|**per_poverty**|*float*|2010 census|The percent of the county over the age of 18 living below the 200% of official US poverty rate (units percent to two decimal places 98.10 means 98.1%)|\n",
    "\n",
    "[Here's a quick link to a short guide for formatting markdown in Jupyter notebooks](https://jupyter-notebook.readthedocs.io/en/stable/examples/Notebook/Working%20With%20Markdown%20Cells.html).\n",
    "\n",
    "Provided is the skeleton for formatting a markdown table, with columns headers that will help you create a data dictionary to quickly summarize your data, as well as some examples. **This would be a great thing to copy and paste into your custom README for this project.**\n",
    "\n",
    "*Note*: if you are unsure of what a feature is, check the source of the data! This can be found in the README."
   ]
  },
  {
   "cell_type": "markdown",
   "metadata": {},
   "source": [
    "\n",
    "\n",
    "|Feature|Type|Dataset|Description|\n",
    "|---|---|---|---|\n",
    "|total_rain|float|rainfall-monthly-total|Total rainfall in mm| \n",
    "|no_of_rainy_days|integer|rainfall-monthly-number-of-rain|Number of rainy days on the month|\n",
    "|psi|integer|historical-24-hr-psi|Mean levels of PSI at different regions per year|\n",
    "|death_by_age|float|Mortality_rate|Rate of death per 1,000 residents|\n",
    "|death_by_causes|integer|Mortality_rate|Total number of deaths due to respiratory diseases|\n",
    "|total_visits|int|Hospital_visits|Total number of admissions per year|\n",
    "\n",
    "\n"
   ]
  },
  {
   "cell_type": "markdown",
   "metadata": {},
   "source": [
    "## Exploratory Data Analysis\n",
    "\n",
    "Complete the following steps to explore your data. You are welcome to do more EDA than the steps outlined here as you feel necessary:\n",
    "1. Summary Statistics.\n",
    "2. Use a **dictionary comprehension** to apply the standard deviation function you create in part 1 to each numeric column in the dataframe.  **No loops**.\n",
    "    - Assign the output to variable `sd` as a dictionary where: \n",
    "        - Each column name is now a key \n",
    "        - That standard deviation of the column is the value \n",
    "        - *Example Output :* `{'rainfall-monthly-total': xxx, 'no_of_rainy_days': xxx, ...}`\n",
    "3. Investigate trends in the data.\n",
    "    - Using sorting and/or masking (along with the `.head()` method to avoid printing our entire dataframe), consider questions relevant to your problem statement. Some examples are provided below (but feel free to change these questions for your specific problem):\n",
    "        - Which month have the highest and lowest total rainfall in 1990, 2000, 2010 and 2020?\n",
    "        - Which year have the highest and lowest total rainfall in the date range of analysis?\n",
    "        - Which month have the highest and lowest number of rainy days in 1990, 2000, 2010 and 2020?\n",
    "        - Which year have the highest and lowest number of rainy days in the date range of analysis?\n",
    "        - Are there any outliers months in the dataset?\n",
    "       \n",
    "    - **The above 5 questions are compulsory. Feel free to explore other trends based on the datasets that you have choosen for analysis. You should comment on your findings at each step in a markdown cell below your code block**. Make sure you include at least one example of sorting your dataframe by a column, and one example of using boolean filtering (i.e., masking) to select a subset of the dataframe."
   ]
  },
  {
   "cell_type": "code",
   "execution_count": 28,
   "metadata": {},
   "outputs": [
    {
     "data": {
      "text/html": [
       "<div>\n",
       "<style scoped>\n",
       "    .dataframe tbody tr th:only-of-type {\n",
       "        vertical-align: middle;\n",
       "    }\n",
       "\n",
       "    .dataframe tbody tr th {\n",
       "        vertical-align: top;\n",
       "    }\n",
       "\n",
       "    .dataframe thead th {\n",
       "        text-align: right;\n",
       "    }\n",
       "</style>\n",
       "<table border=\"1\" class=\"dataframe\">\n",
       "  <thead>\n",
       "    <tr style=\"text-align: right;\">\n",
       "      <th></th>\n",
       "      <th>year</th>\n",
       "      <th>total_admissions</th>\n",
       "      <th>total_death_rate</th>\n",
       "      <th>respiratory_deaths</th>\n",
       "      <th>total_rainfall</th>\n",
       "      <th>no_of_rainy_days</th>\n",
       "      <th>north</th>\n",
       "      <th>south</th>\n",
       "      <th>east</th>\n",
       "      <th>west</th>\n",
       "      <th>central</th>\n",
       "    </tr>\n",
       "  </thead>\n",
       "  <tbody>\n",
       "    <tr>\n",
       "      <th>count</th>\n",
       "      <td>7.000000</td>\n",
       "      <td>7.000000</td>\n",
       "      <td>7.000000</td>\n",
       "      <td>7.000000</td>\n",
       "      <td>7.000000</td>\n",
       "      <td>7.000000</td>\n",
       "      <td>7.000000</td>\n",
       "      <td>7.000000</td>\n",
       "      <td>7.000000</td>\n",
       "      <td>7.000000</td>\n",
       "      <td>7.000000</td>\n",
       "    </tr>\n",
       "    <tr>\n",
       "      <th>mean</th>\n",
       "      <td>2017.000000</td>\n",
       "      <td>551900.285714</td>\n",
       "      <td>4.928571</td>\n",
       "      <td>4616.714286</td>\n",
       "      <td>1681.300000</td>\n",
       "      <td>163.714286</td>\n",
       "      <td>53.317354</td>\n",
       "      <td>53.437247</td>\n",
       "      <td>52.499579</td>\n",
       "      <td>50.640140</td>\n",
       "      <td>51.414340</td>\n",
       "    </tr>\n",
       "    <tr>\n",
       "      <th>std</th>\n",
       "      <td>2.160247</td>\n",
       "      <td>45417.782493</td>\n",
       "      <td>0.170434</td>\n",
       "      <td>269.781216</td>\n",
       "      <td>300.370338</td>\n",
       "      <td>32.138836</td>\n",
       "      <td>5.527521</td>\n",
       "      <td>5.327343</td>\n",
       "      <td>5.589176</td>\n",
       "      <td>8.625713</td>\n",
       "      <td>4.573847</td>\n",
       "    </tr>\n",
       "    <tr>\n",
       "      <th>min</th>\n",
       "      <td>2014.000000</td>\n",
       "      <td>489574.000000</td>\n",
       "      <td>4.700000</td>\n",
       "      <td>4232.000000</td>\n",
       "      <td>1267.100000</td>\n",
       "      <td>120.000000</td>\n",
       "      <td>44.141052</td>\n",
       "      <td>45.189208</td>\n",
       "      <td>44.736111</td>\n",
       "      <td>38.477573</td>\n",
       "      <td>44.487136</td>\n",
       "    </tr>\n",
       "    <tr>\n",
       "      <th>25%</th>\n",
       "      <td>2015.500000</td>\n",
       "      <td>523072.500000</td>\n",
       "      <td>4.800000</td>\n",
       "      <td>4428.500000</td>\n",
       "      <td>1452.950000</td>\n",
       "      <td>138.500000</td>\n",
       "      <td>51.878368</td>\n",
       "      <td>51.307838</td>\n",
       "      <td>50.230167</td>\n",
       "      <td>46.899543</td>\n",
       "      <td>48.792593</td>\n",
       "    </tr>\n",
       "    <tr>\n",
       "      <th>50%</th>\n",
       "      <td>2017.000000</td>\n",
       "      <td>556511.000000</td>\n",
       "      <td>5.000000</td>\n",
       "      <td>4610.000000</td>\n",
       "      <td>1708.200000</td>\n",
       "      <td>178.000000</td>\n",
       "      <td>52.567237</td>\n",
       "      <td>53.880023</td>\n",
       "      <td>51.160388</td>\n",
       "      <td>49.148110</td>\n",
       "      <td>52.549087</td>\n",
       "    </tr>\n",
       "    <tr>\n",
       "      <th>75%</th>\n",
       "      <td>2018.500000</td>\n",
       "      <td>576468.000000</td>\n",
       "      <td>5.000000</td>\n",
       "      <td>4833.000000</td>\n",
       "      <td>1921.150000</td>\n",
       "      <td>183.500000</td>\n",
       "      <td>55.126856</td>\n",
       "      <td>54.747500</td>\n",
       "      <td>54.103444</td>\n",
       "      <td>53.736609</td>\n",
       "      <td>53.502443</td>\n",
       "    </tr>\n",
       "    <tr>\n",
       "      <th>max</th>\n",
       "      <td>2020.000000</td>\n",
       "      <td>618136.000000</td>\n",
       "      <td>5.200000</td>\n",
       "      <td>4952.000000</td>\n",
       "      <td>2045.600000</td>\n",
       "      <td>204.000000</td>\n",
       "      <td>62.502740</td>\n",
       "      <td>62.880822</td>\n",
       "      <td>62.933333</td>\n",
       "      <td>65.582991</td>\n",
       "      <td>58.274087</td>\n",
       "    </tr>\n",
       "  </tbody>\n",
       "</table>\n",
       "</div>"
      ],
      "text/plain": [
       "              year  total_admissions  total_death_rate  respiratory_deaths  \\\n",
       "count     7.000000          7.000000          7.000000            7.000000   \n",
       "mean   2017.000000     551900.285714          4.928571         4616.714286   \n",
       "std       2.160247      45417.782493          0.170434          269.781216   \n",
       "min    2014.000000     489574.000000          4.700000         4232.000000   \n",
       "25%    2015.500000     523072.500000          4.800000         4428.500000   \n",
       "50%    2017.000000     556511.000000          5.000000         4610.000000   \n",
       "75%    2018.500000     576468.000000          5.000000         4833.000000   \n",
       "max    2020.000000     618136.000000          5.200000         4952.000000   \n",
       "\n",
       "       total_rainfall  no_of_rainy_days      north      south       east  \\\n",
       "count        7.000000          7.000000   7.000000   7.000000   7.000000   \n",
       "mean      1681.300000        163.714286  53.317354  53.437247  52.499579   \n",
       "std        300.370338         32.138836   5.527521   5.327343   5.589176   \n",
       "min       1267.100000        120.000000  44.141052  45.189208  44.736111   \n",
       "25%       1452.950000        138.500000  51.878368  51.307838  50.230167   \n",
       "50%       1708.200000        178.000000  52.567237  53.880023  51.160388   \n",
       "75%       1921.150000        183.500000  55.126856  54.747500  54.103444   \n",
       "max       2045.600000        204.000000  62.502740  62.880822  62.933333   \n",
       "\n",
       "            west    central  \n",
       "count   7.000000   7.000000  \n",
       "mean   50.640140  51.414340  \n",
       "std     8.625713   4.573847  \n",
       "min    38.477573  44.487136  \n",
       "25%    46.899543  48.792593  \n",
       "50%    49.148110  52.549087  \n",
       "75%    53.736609  53.502443  \n",
       "max    65.582991  58.274087  "
      ]
     },
     "execution_count": 28,
     "metadata": {},
     "output_type": "execute_result"
    }
   ],
   "source": [
    "# Summary statistic\n",
    "merged_df.describe()"
   ]
  },
  {
   "cell_type": "code",
   "execution_count": 29,
   "metadata": {},
   "outputs": [
    {
     "data": {
      "text/html": [
       "<div>\n",
       "<style scoped>\n",
       "    .dataframe tbody tr th:only-of-type {\n",
       "        vertical-align: middle;\n",
       "    }\n",
       "\n",
       "    .dataframe tbody tr th {\n",
       "        vertical-align: top;\n",
       "    }\n",
       "\n",
       "    .dataframe thead th {\n",
       "        text-align: right;\n",
       "    }\n",
       "</style>\n",
       "<table border=\"1\" class=\"dataframe\">\n",
       "  <thead>\n",
       "    <tr style=\"text-align: right;\">\n",
       "      <th></th>\n",
       "      <th>total_rainfall</th>\n",
       "      <th>year_x</th>\n",
       "      <th>no_of_rainy_days</th>\n",
       "      <th>year_y</th>\n",
       "      <th>north</th>\n",
       "      <th>south</th>\n",
       "      <th>east</th>\n",
       "      <th>west</th>\n",
       "      <th>central</th>\n",
       "    </tr>\n",
       "  </thead>\n",
       "  <tbody>\n",
       "    <tr>\n",
       "      <th>count</th>\n",
       "      <td>97.000000</td>\n",
       "      <td>97.000000</td>\n",
       "      <td>97.000000</td>\n",
       "      <td>97.000000</td>\n",
       "      <td>97.000000</td>\n",
       "      <td>97.000000</td>\n",
       "      <td>97.000000</td>\n",
       "      <td>97.000000</td>\n",
       "      <td>97.000000</td>\n",
       "    </tr>\n",
       "    <tr>\n",
       "      <th>mean</th>\n",
       "      <td>151.324742</td>\n",
       "      <td>2017.546392</td>\n",
       "      <td>13.783505</td>\n",
       "      <td>2017.546392</td>\n",
       "      <td>52.700047</td>\n",
       "      <td>51.857115</td>\n",
       "      <td>51.214990</td>\n",
       "      <td>49.262794</td>\n",
       "      <td>50.941517</td>\n",
       "    </tr>\n",
       "    <tr>\n",
       "      <th>std</th>\n",
       "      <td>102.289772</td>\n",
       "      <td>2.336400</td>\n",
       "      <td>5.686656</td>\n",
       "      <td>2.336400</td>\n",
       "      <td>8.497618</td>\n",
       "      <td>9.727383</td>\n",
       "      <td>8.732802</td>\n",
       "      <td>11.545798</td>\n",
       "      <td>7.769705</td>\n",
       "    </tr>\n",
       "    <tr>\n",
       "      <th>min</th>\n",
       "      <td>0.200000</td>\n",
       "      <td>2014.000000</td>\n",
       "      <td>1.000000</td>\n",
       "      <td>2014.000000</td>\n",
       "      <td>29.000000</td>\n",
       "      <td>27.000000</td>\n",
       "      <td>32.000000</td>\n",
       "      <td>17.000000</td>\n",
       "      <td>29.000000</td>\n",
       "    </tr>\n",
       "    <tr>\n",
       "      <th>25%</th>\n",
       "      <td>83.600000</td>\n",
       "      <td>2016.000000</td>\n",
       "      <td>10.000000</td>\n",
       "      <td>2016.000000</td>\n",
       "      <td>48.282738</td>\n",
       "      <td>46.801389</td>\n",
       "      <td>46.788690</td>\n",
       "      <td>42.125000</td>\n",
       "      <td>46.486111</td>\n",
       "    </tr>\n",
       "    <tr>\n",
       "      <th>50%</th>\n",
       "      <td>136.200000</td>\n",
       "      <td>2018.000000</td>\n",
       "      <td>14.000000</td>\n",
       "      <td>2018.000000</td>\n",
       "      <td>52.498656</td>\n",
       "      <td>51.708333</td>\n",
       "      <td>50.236111</td>\n",
       "      <td>47.806452</td>\n",
       "      <td>50.208333</td>\n",
       "    </tr>\n",
       "    <tr>\n",
       "      <th>75%</th>\n",
       "      <td>193.800000</td>\n",
       "      <td>2020.000000</td>\n",
       "      <td>18.000000</td>\n",
       "      <td>2020.000000</td>\n",
       "      <td>55.451163</td>\n",
       "      <td>55.680556</td>\n",
       "      <td>54.651882</td>\n",
       "      <td>55.083333</td>\n",
       "      <td>53.750000</td>\n",
       "    </tr>\n",
       "    <tr>\n",
       "      <th>max</th>\n",
       "      <td>692.800000</td>\n",
       "      <td>2022.000000</td>\n",
       "      <td>27.000000</td>\n",
       "      <td>2022.000000</td>\n",
       "      <td>98.300000</td>\n",
       "      <td>102.287500</td>\n",
       "      <td>95.890278</td>\n",
       "      <td>106.284722</td>\n",
       "      <td>89.909722</td>\n",
       "    </tr>\n",
       "  </tbody>\n",
       "</table>\n",
       "</div>"
      ],
      "text/plain": [
       "       total_rainfall       year_x  no_of_rainy_days       year_y      north  \\\n",
       "count       97.000000    97.000000         97.000000    97.000000  97.000000   \n",
       "mean       151.324742  2017.546392         13.783505  2017.546392  52.700047   \n",
       "std        102.289772     2.336400          5.686656     2.336400   8.497618   \n",
       "min          0.200000  2014.000000          1.000000  2014.000000  29.000000   \n",
       "25%         83.600000  2016.000000         10.000000  2016.000000  48.282738   \n",
       "50%        136.200000  2018.000000         14.000000  2018.000000  52.498656   \n",
       "75%        193.800000  2020.000000         18.000000  2020.000000  55.451163   \n",
       "max        692.800000  2022.000000         27.000000  2022.000000  98.300000   \n",
       "\n",
       "            south       east        west    central  \n",
       "count   97.000000  97.000000   97.000000  97.000000  \n",
       "mean    51.857115  51.214990   49.262794  50.941517  \n",
       "std      9.727383   8.732802   11.545798   7.769705  \n",
       "min     27.000000  32.000000   17.000000  29.000000  \n",
       "25%     46.801389  46.788690   42.125000  46.486111  \n",
       "50%     51.708333  50.236111   47.806452  50.208333  \n",
       "75%     55.680556  54.651882   55.083333  53.750000  \n",
       "max    102.287500  95.890278  106.284722  89.909722  "
      ]
     },
     "execution_count": 29,
     "metadata": {},
     "output_type": "execute_result"
    }
   ],
   "source": [
    "monthly_df.describe()"
   ]
  },
  {
   "cell_type": "code",
   "execution_count": 30,
   "metadata": {},
   "outputs": [
    {
     "data": {
      "text/plain": [
       "{'total_admissions': 42048.69591901509,\n",
       " 'total_death_rate': 0.15779087167410377,\n",
       " 'respiratory_deaths': 249.7688727522274,\n",
       " 'total_rainfall': 278.08889637257056,\n",
       " 'no_of_rainy_days': 29.754780099599294,\n",
       " 'north': 5.117490260409533,\n",
       " 'south': 4.932161200421893,\n",
       " 'east': 5.174571063375537,\n",
       " 'west': 7.985858071755222,\n",
       " 'central': 4.23455994272347}"
      ]
     },
     "execution_count": 30,
     "metadata": {},
     "output_type": "execute_result"
    }
   ],
   "source": [
    "# Dictionary comprehension to apply the standard deviation function for merged_df\n",
    "sd_merged_df = {column: calculate_std_dev(merged_df[column]) for column in merged_df if column != \"year\"}\n",
    "sd_merged_df"
   ]
  },
  {
   "cell_type": "code",
   "execution_count": 31,
   "metadata": {},
   "outputs": [
    {
     "data": {
      "text/plain": [
       "{'total_admissions': 42048.69591901509,\n",
       " 'total_death_rate': 0.15779087167410377,\n",
       " 'respiratory_deaths': 249.7688727522274,\n",
       " 'total_rainfall': 278.08889637257056,\n",
       " 'no_of_rainy_days': 29.754780099599294,\n",
       " 'north': 5.117490260409533,\n",
       " 'south': 4.932161200421893,\n",
       " 'east': 5.174571063375537,\n",
       " 'west': 7.985858071755222,\n",
       " 'central': 4.23455994272347}"
      ]
     },
     "execution_count": 31,
     "metadata": {},
     "output_type": "execute_result"
    }
   ],
   "source": [
    "sd_monthly_df = {column: calculate_std_dev(merged_df[column]) for column in merged_df if column != \"year\"}\n",
    "sd_monthly_df"
   ]
  },
  {
   "cell_type": "code",
   "execution_count": 32,
   "metadata": {},
   "outputs": [
    {
     "name": "stdout",
     "output_type": "stream",
     "text": [
      "The month that have the highest rainfall is 2000-11.\n",
      "\n"
     ]
    }
   ],
   "source": [
    "# Q1) Which month have the highest and lowest total rainfall in 1990, 2000, 2010 and 2020?\n",
    "filtered_df = total_rain[total_rain['year'].isin([1990, 2000, 2010, 2020])]\n",
    "monthly_rainfall = filtered_df.groupby('month')['total_rainfall'].sum()\n",
    "highest_rainfall_month = monthly_rainfall.idxmax()\n",
    "print(f\"The month that have the highest rainfall is {highest_rainfall_month}.\\n\")"
   ]
  },
  {
   "cell_type": "code",
   "execution_count": 33,
   "metadata": {},
   "outputs": [
    {
     "name": "stdout",
     "output_type": "stream",
     "text": [
      "The month that have the highest rainfall is 2010-02.\n",
      "\n"
     ]
    }
   ],
   "source": [
    "lowest_rainfall_month = monthly_rainfall.idxmin()\n",
    "print(f\"The month that have the highest rainfall is {lowest_rainfall_month}.\\n\")"
   ]
  },
  {
   "cell_type": "code",
   "execution_count": 34,
   "metadata": {},
   "outputs": [
    {
     "name": "stdout",
     "output_type": "stream",
     "text": [
      "The year that have the highest rainfall in the date range of analysis is 2017.\n",
      "\n"
     ]
    }
   ],
   "source": [
    "# Q2) Which year have the highest and lowest total rainfall in the date range of analysis?\n",
    "highest_merged_df = merged_df['total_rainfall'].idxmax()\n",
    "print(f\"The year that have the highest rainfall in the date range of analysis is {merged_df.iloc[highest_merged_df, 0]}.\\n\")"
   ]
  },
  {
   "cell_type": "code",
   "execution_count": 35,
   "metadata": {},
   "outputs": [
    {
     "name": "stdout",
     "output_type": "stream",
     "text": [
      "The year that have the highest rainfall in the date range of analysis is 2015.\n",
      "\n"
     ]
    }
   ],
   "source": [
    "lowest_merged_df = merged_df['total_rainfall'].idxmin()\n",
    "print(f\"The year that have the highest rainfall in the date range of analysis is {merged_df.iloc[lowest_merged_df, 0]}.\\n\")"
   ]
  },
  {
   "cell_type": "code",
   "execution_count": 36,
   "metadata": {},
   "outputs": [
    {
     "name": "stdout",
     "output_type": "stream",
     "text": [
      "The month that have the highest rainfall is 2020-07.\n",
      "\n"
     ]
    }
   ],
   "source": [
    "# Q3) Which month have the highest and lowest number of rainy days in 1990, 2000, 2010 and 2020?\n",
    "filtered_df2 = no_of_rainy_days[no_of_rainy_days['year'].isin([1990, 2000, 2010, 2020])]\n",
    "monthly_rainydays = filtered_df2.groupby('month')['no_of_rainy_days'].sum()\n",
    "highest_rainydays_month = monthly_rainydays.idxmax()\n",
    "print(f\"The month that have the highest rainfall is {highest_rainydays_month}.\\n\")"
   ]
  },
  {
   "cell_type": "code",
   "execution_count": 37,
   "metadata": {},
   "outputs": [
    {
     "name": "stdout",
     "output_type": "stream",
     "text": [
      "The month that have the lowest rainfall is 1990-03.\n",
      "\n"
     ]
    }
   ],
   "source": [
    "lowest_rainydays_month = monthly_rainydays.idxmin()\n",
    "print(f\"The month that have the lowest rainfall is {lowest_rainydays_month}.\\n\")"
   ]
  },
  {
   "cell_type": "code",
   "execution_count": 38,
   "metadata": {},
   "outputs": [
    {
     "name": "stdout",
     "output_type": "stream",
     "text": [
      "The year that have the highest number of rainy days in the date range of analysis is 2017.\n",
      "\n"
     ]
    }
   ],
   "source": [
    "# Q4) Which year have the highest and lowest number of rainy days in the date range of analysis?\n",
    "highest_merged_df2 = merged_df['no_of_rainy_days'].idxmax()\n",
    "print(f\"The year that have the highest number of rainy days in the date range of analysis is {merged_df.iloc[highest_merged_df2, 0]}.\\n\")"
   ]
  },
  {
   "cell_type": "code",
   "execution_count": 39,
   "metadata": {},
   "outputs": [
    {
     "name": "stdout",
     "output_type": "stream",
     "text": [
      "The year that have the lowest number of rainy days in the date range of analysis is 2015.\n",
      "\n"
     ]
    }
   ],
   "source": [
    "lowest_merged_df2 = merged_df['no_of_rainy_days'].idxmin()\n",
    "print(f\"The year that have the lowest number of rainy days in the date range of analysis is {merged_df.iloc[lowest_merged_df, 0]}.\\n\")"
   ]
  },
  {
   "cell_type": "code",
   "execution_count": 40,
   "metadata": {},
   "outputs": [
    {
     "data": {
      "text/html": [
       "<div>\n",
       "<style scoped>\n",
       "    .dataframe tbody tr th:only-of-type {\n",
       "        vertical-align: middle;\n",
       "    }\n",
       "\n",
       "    .dataframe tbody tr th {\n",
       "        vertical-align: top;\n",
       "    }\n",
       "\n",
       "    .dataframe thead th {\n",
       "        text-align: right;\n",
       "    }\n",
       "</style>\n",
       "<table border=\"1\" class=\"dataframe\">\n",
       "  <thead>\n",
       "    <tr style=\"text-align: right;\">\n",
       "      <th></th>\n",
       "      <th>total_rainfall</th>\n",
       "      <th>year_x</th>\n",
       "      <th>no_of_rainy_days</th>\n",
       "      <th>year_y</th>\n",
       "      <th>north</th>\n",
       "      <th>south</th>\n",
       "      <th>east</th>\n",
       "      <th>west</th>\n",
       "      <th>central</th>\n",
       "    </tr>\n",
       "  </thead>\n",
       "  <tbody>\n",
       "    <tr>\n",
       "      <th>count</th>\n",
       "      <td>97.000000</td>\n",
       "      <td>97.000000</td>\n",
       "      <td>97.000000</td>\n",
       "      <td>97.000000</td>\n",
       "      <td>97.000000</td>\n",
       "      <td>97.000000</td>\n",
       "      <td>97.000000</td>\n",
       "      <td>97.000000</td>\n",
       "      <td>97.000000</td>\n",
       "    </tr>\n",
       "    <tr>\n",
       "      <th>mean</th>\n",
       "      <td>151.324742</td>\n",
       "      <td>2017.546392</td>\n",
       "      <td>13.783505</td>\n",
       "      <td>2017.546392</td>\n",
       "      <td>52.700047</td>\n",
       "      <td>51.857115</td>\n",
       "      <td>51.214990</td>\n",
       "      <td>49.262794</td>\n",
       "      <td>50.941517</td>\n",
       "    </tr>\n",
       "    <tr>\n",
       "      <th>std</th>\n",
       "      <td>102.289772</td>\n",
       "      <td>2.336400</td>\n",
       "      <td>5.686656</td>\n",
       "      <td>2.336400</td>\n",
       "      <td>8.497618</td>\n",
       "      <td>9.727383</td>\n",
       "      <td>8.732802</td>\n",
       "      <td>11.545798</td>\n",
       "      <td>7.769705</td>\n",
       "    </tr>\n",
       "    <tr>\n",
       "      <th>min</th>\n",
       "      <td>0.200000</td>\n",
       "      <td>2014.000000</td>\n",
       "      <td>1.000000</td>\n",
       "      <td>2014.000000</td>\n",
       "      <td>29.000000</td>\n",
       "      <td>27.000000</td>\n",
       "      <td>32.000000</td>\n",
       "      <td>17.000000</td>\n",
       "      <td>29.000000</td>\n",
       "    </tr>\n",
       "    <tr>\n",
       "      <th>25%</th>\n",
       "      <td>83.600000</td>\n",
       "      <td>2016.000000</td>\n",
       "      <td>10.000000</td>\n",
       "      <td>2016.000000</td>\n",
       "      <td>48.282738</td>\n",
       "      <td>46.801389</td>\n",
       "      <td>46.788690</td>\n",
       "      <td>42.125000</td>\n",
       "      <td>46.486111</td>\n",
       "    </tr>\n",
       "    <tr>\n",
       "      <th>50%</th>\n",
       "      <td>136.200000</td>\n",
       "      <td>2018.000000</td>\n",
       "      <td>14.000000</td>\n",
       "      <td>2018.000000</td>\n",
       "      <td>52.498656</td>\n",
       "      <td>51.708333</td>\n",
       "      <td>50.236111</td>\n",
       "      <td>47.806452</td>\n",
       "      <td>50.208333</td>\n",
       "    </tr>\n",
       "    <tr>\n",
       "      <th>75%</th>\n",
       "      <td>193.800000</td>\n",
       "      <td>2020.000000</td>\n",
       "      <td>18.000000</td>\n",
       "      <td>2020.000000</td>\n",
       "      <td>55.451163</td>\n",
       "      <td>55.680556</td>\n",
       "      <td>54.651882</td>\n",
       "      <td>55.083333</td>\n",
       "      <td>53.750000</td>\n",
       "    </tr>\n",
       "    <tr>\n",
       "      <th>max</th>\n",
       "      <td>692.800000</td>\n",
       "      <td>2022.000000</td>\n",
       "      <td>27.000000</td>\n",
       "      <td>2022.000000</td>\n",
       "      <td>98.300000</td>\n",
       "      <td>102.287500</td>\n",
       "      <td>95.890278</td>\n",
       "      <td>106.284722</td>\n",
       "      <td>89.909722</td>\n",
       "    </tr>\n",
       "  </tbody>\n",
       "</table>\n",
       "</div>"
      ],
      "text/plain": [
       "       total_rainfall       year_x  no_of_rainy_days       year_y      north  \\\n",
       "count       97.000000    97.000000         97.000000    97.000000  97.000000   \n",
       "mean       151.324742  2017.546392         13.783505  2017.546392  52.700047   \n",
       "std        102.289772     2.336400          5.686656     2.336400   8.497618   \n",
       "min          0.200000  2014.000000          1.000000  2014.000000  29.000000   \n",
       "25%         83.600000  2016.000000         10.000000  2016.000000  48.282738   \n",
       "50%        136.200000  2018.000000         14.000000  2018.000000  52.498656   \n",
       "75%        193.800000  2020.000000         18.000000  2020.000000  55.451163   \n",
       "max        692.800000  2022.000000         27.000000  2022.000000  98.300000   \n",
       "\n",
       "            south       east        west    central  \n",
       "count   97.000000  97.000000   97.000000  97.000000  \n",
       "mean    51.857115  51.214990   49.262794  50.941517  \n",
       "std      9.727383   8.732802   11.545798   7.769705  \n",
       "min     27.000000  32.000000   17.000000  29.000000  \n",
       "25%     46.801389  46.788690   42.125000  46.486111  \n",
       "50%     51.708333  50.236111   47.806452  50.208333  \n",
       "75%     55.680556  54.651882   55.083333  53.750000  \n",
       "max    102.287500  95.890278  106.284722  89.909722  "
      ]
     },
     "execution_count": 40,
     "metadata": {},
     "output_type": "execute_result"
    }
   ],
   "source": [
    "# Q5) Are there any outliers months in the dataset?\n",
    "monthly_df.describe()"
   ]
  },
  {
   "cell_type": "code",
   "execution_count": 41,
   "metadata": {},
   "outputs": [
    {
     "data": {
      "text/html": [
       "<div>\n",
       "<style scoped>\n",
       "    .dataframe tbody tr th:only-of-type {\n",
       "        vertical-align: middle;\n",
       "    }\n",
       "\n",
       "    .dataframe tbody tr th {\n",
       "        vertical-align: top;\n",
       "    }\n",
       "\n",
       "    .dataframe thead th {\n",
       "        text-align: right;\n",
       "    }\n",
       "</style>\n",
       "<table border=\"1\" class=\"dataframe\">\n",
       "  <thead>\n",
       "    <tr style=\"text-align: right;\">\n",
       "      <th></th>\n",
       "      <th>year</th>\n",
       "      <th>total_admissions</th>\n",
       "      <th>total_death_rate</th>\n",
       "      <th>respiratory_deaths</th>\n",
       "      <th>total_rainfall</th>\n",
       "      <th>no_of_rainy_days</th>\n",
       "      <th>north</th>\n",
       "      <th>south</th>\n",
       "      <th>east</th>\n",
       "      <th>west</th>\n",
       "      <th>central</th>\n",
       "    </tr>\n",
       "  </thead>\n",
       "  <tbody>\n",
       "    <tr>\n",
       "      <th>count</th>\n",
       "      <td>7.000000</td>\n",
       "      <td>7.000000</td>\n",
       "      <td>7.000000</td>\n",
       "      <td>7.000000</td>\n",
       "      <td>7.000000</td>\n",
       "      <td>7.000000</td>\n",
       "      <td>7.000000</td>\n",
       "      <td>7.000000</td>\n",
       "      <td>7.000000</td>\n",
       "      <td>7.000000</td>\n",
       "      <td>7.000000</td>\n",
       "    </tr>\n",
       "    <tr>\n",
       "      <th>mean</th>\n",
       "      <td>2017.000000</td>\n",
       "      <td>551900.285714</td>\n",
       "      <td>4.928571</td>\n",
       "      <td>4616.714286</td>\n",
       "      <td>1681.300000</td>\n",
       "      <td>163.714286</td>\n",
       "      <td>53.317354</td>\n",
       "      <td>53.437247</td>\n",
       "      <td>52.499579</td>\n",
       "      <td>50.640140</td>\n",
       "      <td>51.414340</td>\n",
       "    </tr>\n",
       "    <tr>\n",
       "      <th>std</th>\n",
       "      <td>2.160247</td>\n",
       "      <td>45417.782493</td>\n",
       "      <td>0.170434</td>\n",
       "      <td>269.781216</td>\n",
       "      <td>300.370338</td>\n",
       "      <td>32.138836</td>\n",
       "      <td>5.527521</td>\n",
       "      <td>5.327343</td>\n",
       "      <td>5.589176</td>\n",
       "      <td>8.625713</td>\n",
       "      <td>4.573847</td>\n",
       "    </tr>\n",
       "    <tr>\n",
       "      <th>min</th>\n",
       "      <td>2014.000000</td>\n",
       "      <td>489574.000000</td>\n",
       "      <td>4.700000</td>\n",
       "      <td>4232.000000</td>\n",
       "      <td>1267.100000</td>\n",
       "      <td>120.000000</td>\n",
       "      <td>44.141052</td>\n",
       "      <td>45.189208</td>\n",
       "      <td>44.736111</td>\n",
       "      <td>38.477573</td>\n",
       "      <td>44.487136</td>\n",
       "    </tr>\n",
       "    <tr>\n",
       "      <th>25%</th>\n",
       "      <td>2015.500000</td>\n",
       "      <td>523072.500000</td>\n",
       "      <td>4.800000</td>\n",
       "      <td>4428.500000</td>\n",
       "      <td>1452.950000</td>\n",
       "      <td>138.500000</td>\n",
       "      <td>51.878368</td>\n",
       "      <td>51.307838</td>\n",
       "      <td>50.230167</td>\n",
       "      <td>46.899543</td>\n",
       "      <td>48.792593</td>\n",
       "    </tr>\n",
       "    <tr>\n",
       "      <th>50%</th>\n",
       "      <td>2017.000000</td>\n",
       "      <td>556511.000000</td>\n",
       "      <td>5.000000</td>\n",
       "      <td>4610.000000</td>\n",
       "      <td>1708.200000</td>\n",
       "      <td>178.000000</td>\n",
       "      <td>52.567237</td>\n",
       "      <td>53.880023</td>\n",
       "      <td>51.160388</td>\n",
       "      <td>49.148110</td>\n",
       "      <td>52.549087</td>\n",
       "    </tr>\n",
       "    <tr>\n",
       "      <th>75%</th>\n",
       "      <td>2018.500000</td>\n",
       "      <td>576468.000000</td>\n",
       "      <td>5.000000</td>\n",
       "      <td>4833.000000</td>\n",
       "      <td>1921.150000</td>\n",
       "      <td>183.500000</td>\n",
       "      <td>55.126856</td>\n",
       "      <td>54.747500</td>\n",
       "      <td>54.103444</td>\n",
       "      <td>53.736609</td>\n",
       "      <td>53.502443</td>\n",
       "    </tr>\n",
       "    <tr>\n",
       "      <th>max</th>\n",
       "      <td>2020.000000</td>\n",
       "      <td>618136.000000</td>\n",
       "      <td>5.200000</td>\n",
       "      <td>4952.000000</td>\n",
       "      <td>2045.600000</td>\n",
       "      <td>204.000000</td>\n",
       "      <td>62.502740</td>\n",
       "      <td>62.880822</td>\n",
       "      <td>62.933333</td>\n",
       "      <td>65.582991</td>\n",
       "      <td>58.274087</td>\n",
       "    </tr>\n",
       "  </tbody>\n",
       "</table>\n",
       "</div>"
      ],
      "text/plain": [
       "              year  total_admissions  total_death_rate  respiratory_deaths  \\\n",
       "count     7.000000          7.000000          7.000000            7.000000   \n",
       "mean   2017.000000     551900.285714          4.928571         4616.714286   \n",
       "std       2.160247      45417.782493          0.170434          269.781216   \n",
       "min    2014.000000     489574.000000          4.700000         4232.000000   \n",
       "25%    2015.500000     523072.500000          4.800000         4428.500000   \n",
       "50%    2017.000000     556511.000000          5.000000         4610.000000   \n",
       "75%    2018.500000     576468.000000          5.000000         4833.000000   \n",
       "max    2020.000000     618136.000000          5.200000         4952.000000   \n",
       "\n",
       "       total_rainfall  no_of_rainy_days      north      south       east  \\\n",
       "count        7.000000          7.000000   7.000000   7.000000   7.000000   \n",
       "mean      1681.300000        163.714286  53.317354  53.437247  52.499579   \n",
       "std        300.370338         32.138836   5.527521   5.327343   5.589176   \n",
       "min       1267.100000        120.000000  44.141052  45.189208  44.736111   \n",
       "25%       1452.950000        138.500000  51.878368  51.307838  50.230167   \n",
       "50%       1708.200000        178.000000  52.567237  53.880023  51.160388   \n",
       "75%       1921.150000        183.500000  55.126856  54.747500  54.103444   \n",
       "max       2045.600000        204.000000  62.502740  62.880822  62.933333   \n",
       "\n",
       "            west    central  \n",
       "count   7.000000   7.000000  \n",
       "mean   50.640140  51.414340  \n",
       "std     8.625713   4.573847  \n",
       "min    38.477573  44.487136  \n",
       "25%    46.899543  48.792593  \n",
       "50%    49.148110  52.549087  \n",
       "75%    53.736609  53.502443  \n",
       "max    65.582991  58.274087  "
      ]
     },
     "execution_count": 41,
     "metadata": {},
     "output_type": "execute_result"
    }
   ],
   "source": [
    "merged_df.describe()"
   ]
  },
  {
   "cell_type": "code",
   "execution_count": 42,
   "metadata": {},
   "outputs": [
    {
     "data": {
      "text/plain": [
       "<Axes: >"
      ]
     },
     "execution_count": 42,
     "metadata": {},
     "output_type": "execute_result"
    },
    {
     "data": {
      "image/png": "[encoded data removed]",
      "text/plain": [
       "<Figure size 640x480 with 1 Axes>"
      ]
     },
     "metadata": {},
     "output_type": "display_data"
    }
   ],
   "source": [
    "# preliminary exploration of outliers\n",
    "\n",
    "sns.boxplot(merged_df['total_rainfall'], orient='h') \n",
    "# No outliers"
   ]
  },
  {
   "cell_type": "code",
   "execution_count": 43,
   "metadata": {},
   "outputs": [
    {
     "data": {
      "text/plain": [
       "<Axes: >"
      ]
     },
     "execution_count": 43,
     "metadata": {},
     "output_type": "execute_result"
    },
    {
     "data": {
      "image/png": "[encoded data removed]",
      "text/plain": [
       "<Figure size 640x480 with 1 Axes>"
      ]
     },
     "metadata": {},
     "output_type": "display_data"
    }
   ],
   "source": [
    "# find out if no_of_rainy_days has outliers\n",
    "\n",
    "sns.boxplot(merged_df['no_of_rainy_days'], orient='h') \n",
    "# No outliers"
   ]
  },
  {
   "cell_type": "code",
   "execution_count": 44,
   "metadata": {},
   "outputs": [
    {
     "data": {
      "text/plain": [
       "<Axes: >"
      ]
     },
     "execution_count": 44,
     "metadata": {},
     "output_type": "execute_result"
    },
    {
     "data": {
      "image/png": "[encoded data removed]",
      "text/plain": [
       "<Figure size 640x480 with 1 Axes>"
      ]
     },
     "metadata": {},
     "output_type": "display_data"
    }
   ],
   "source": [
    "# find out if total_death_rate has outliers\n",
    "\n",
    "sns.boxplot(merged_df['total_death_rate'], orient='h') \n",
    "# No outliers"
   ]
  },
  {
   "cell_type": "code",
   "execution_count": 45,
   "metadata": {},
   "outputs": [
    {
     "data": {
      "text/plain": [
       "<Axes: >"
      ]
     },
     "execution_count": 45,
     "metadata": {},
     "output_type": "execute_result"
    },
    {
     "data": {
      "image/png": "[encoded data removed]",
      "text/plain": [
       "<Figure size 640x480 with 1 Axes>"
      ]
     },
     "metadata": {},
     "output_type": "display_data"
    }
   ],
   "source": [
    "# find out if total_admissions has outliers\n",
    "\n",
    "sns.boxplot(merged_df['respiratory_deaths'], orient='h') \n",
    "# No outliers"
   ]
  },
  {
   "cell_type": "code",
   "execution_count": 46,
   "metadata": {},
   "outputs": [
    {
     "data": {
      "text/plain": [
       "<Axes: >"
      ]
     },
     "execution_count": 46,
     "metadata": {},
     "output_type": "execute_result"
    },
    {
     "data": {
      "image/png": "[encoded data removed]",
      "text/plain": [
       "<Figure size 640x480 with 1 Axes>"
      ]
     },
     "metadata": {},
     "output_type": "display_data"
    }
   ],
   "source": [
    "# find out if total_admissions has outliers\n",
    "\n",
    "sns.boxplot(merged_df['total_admissions'], orient='h') \n",
    "# No outliers"
   ]
  },
  {
   "cell_type": "code",
   "execution_count": 47,
   "metadata": {},
   "outputs": [
    {
     "data": {
      "text/plain": [
       "<Axes: >"
      ]
     },
     "execution_count": 47,
     "metadata": {},
     "output_type": "execute_result"
    },
    {
     "data": {
      "image/png": "[encoded data removed]",
      "text/plain": [
       "<Figure size 640x480 with 1 Axes>"
      ]
     },
     "metadata": {},
     "output_type": "display_data"
    }
   ],
   "source": [
    "# find out if north has outliers\n",
    "\n",
    "sns.boxplot(merged_df['north'], orient='h') \n",
    "# Yes outliers"
   ]
  },
  {
   "cell_type": "code",
   "execution_count": 48,
   "metadata": {},
   "outputs": [
    {
     "name": "stdout",
     "output_type": "stream",
     "text": [
      " IQR: 3.2484879999999947\n",
      " Upper bound: 59.99958799999999\n",
      " Lower bound: 47.00563600000001\n"
     ]
    }
   ],
   "source": [
    "# calculate north IQR\n",
    "q1_north = 51.878368\n",
    "q3_north = 55.126856\n",
    "IQR_north = q3_north - q1_north\n",
    "print(f' IQR: {IQR_north}')\n",
    "\n",
    "# find the upper bound value \n",
    "right_quartile = q3_north + (1.5*IQR_north)\n",
    "print(f' Upper bound: {right_quartile}')\n",
    "\n",
    "# find the lower bound value\n",
    "left_quartile = q1_north - (1.5*IQR_north)\n",
    "print(f' Lower bound: {left_quartile}')"
   ]
  },
  {
   "cell_type": "code",
   "execution_count": 49,
   "metadata": {},
   "outputs": [
    {
     "data": {
      "text/plain": [
       "<Axes: >"
      ]
     },
     "execution_count": 49,
     "metadata": {},
     "output_type": "execute_result"
    },
    {
     "data": {
      "image/png": "[encoded data removed]",
      "text/plain": [
       "<Figure size 640x480 with 1 Axes>"
      ]
     },
     "metadata": {},
     "output_type": "display_data"
    }
   ],
   "source": [
    "# find out if south has outliers\n",
    "\n",
    "sns.boxplot(merged_df['south'], orient='h') \n",
    "# Yes outliers"
   ]
  },
  {
   "cell_type": "code",
   "execution_count": 50,
   "metadata": {},
   "outputs": [
    {
     "name": "stdout",
     "output_type": "stream",
     "text": [
      " IQR: 3.4396620000000055\n",
      " Upper bound: 59.906993000000014\n",
      " Lower bound: 46.14834499999999\n"
     ]
    }
   ],
   "source": [
    "# calculate south IQR\n",
    "q1_south = 51.307838\t\t\n",
    "q3_south = 54.747500\n",
    "IQR_south = q3_south - q1_south\n",
    "print(f' IQR: {IQR_south}')\n",
    "\n",
    "# find the upper bound value \n",
    "right_quartile2 = q3_south + (1.5*IQR_south)\n",
    "print(f' Upper bound: {right_quartile2}')\n",
    "\n",
    "# find the lower bound value\n",
    "left_quartile2 = q1_south - (1.5*IQR_south)\n",
    "print(f' Lower bound: {left_quartile2}')"
   ]
  },
  {
   "cell_type": "code",
   "execution_count": 51,
   "metadata": {},
   "outputs": [
    {
     "data": {
      "text/plain": [
       "<Axes: >"
      ]
     },
     "execution_count": 51,
     "metadata": {},
     "output_type": "execute_result"
    },
    {
     "data": {
      "image/png": "[encoded data removed]",
      "text/plain": [
       "<Figure size 640x480 with 1 Axes>"
      ]
     },
     "metadata": {},
     "output_type": "display_data"
    }
   ],
   "source": [
    "# find out if east has outliers\n",
    "\n",
    "sns.boxplot(merged_df['east'], orient='h') \n",
    "# Yes outliers"
   ]
  },
  {
   "cell_type": "code",
   "execution_count": 52,
   "metadata": {},
   "outputs": [
    {
     "name": "stdout",
     "output_type": "stream",
     "text": [
      " IQR: 3.8732770000000016\n",
      " Upper bound: 59.913359500000006\n"
     ]
    }
   ],
   "source": [
    "# calculate east IQR\n",
    "q1_east = 50.230167\t\n",
    "q3_east = 54.103444\t\n",
    "IQR_east = q3_east - q1_east\n",
    "print(f' IQR: {IQR_east}')\n",
    "\n",
    "# find the upper bound value \n",
    "right_quartile3 = q3_east + (1.5*IQR_east)\n",
    "print(f' Upper bound: {right_quartile3}')"
   ]
  },
  {
   "cell_type": "code",
   "execution_count": 53,
   "metadata": {},
   "outputs": [
    {
     "data": {
      "text/plain": [
       "<Axes: >"
      ]
     },
     "execution_count": 53,
     "metadata": {},
     "output_type": "execute_result"
    },
    {
     "data": {
      "image/png": "[encoded data removed]",
      "text/plain": [
       "<Figure size 640x480 with 1 Axes>"
      ]
     },
     "metadata": {},
     "output_type": "display_data"
    }
   ],
   "source": [
    "# find out if west has outliers\n",
    "\n",
    "sns.boxplot(merged_df['west'], orient='h') \n",
    "# Yes outliers"
   ]
  },
  {
   "cell_type": "code",
   "execution_count": 54,
   "metadata": {},
   "outputs": [
    {
     "name": "stdout",
     "output_type": "stream",
     "text": [
      " IQR: 6.837066\n",
      " Upper bound: 63.992208000000005\n"
     ]
    }
   ],
   "source": [
    "# calculate west IQR\n",
    "q1_west = 46.899543\n",
    "q3_west = 53.736609\n",
    "IQR_west = q3_west - q1_west\n",
    "print(f' IQR: {IQR_west}')\n",
    "\n",
    "# find the upper bound value \n",
    "right_quartile4 = q3_west + (1.5*IQR_west)\n",
    "print(f' Upper bound: {right_quartile4}')"
   ]
  },
  {
   "cell_type": "code",
   "execution_count": 55,
   "metadata": {},
   "outputs": [
    {
     "data": {
      "text/plain": [
       "<Axes: >"
      ]
     },
     "execution_count": 55,
     "metadata": {},
     "output_type": "execute_result"
    },
    {
     "data": {
      "image/png": "[encoded data removed]",
      "text/plain": [
       "<Figure size 640x480 with 1 Axes>"
      ]
     },
     "metadata": {},
     "output_type": "display_data"
    }
   ],
   "source": [
    "# find out if central has outliers\n",
    "\n",
    "sns.boxplot(merged_df['central'], orient='h') \n",
    "# No outliers"
   ]
  },
  {
   "cell_type": "markdown",
   "metadata": {},
   "source": [
    "## Visualize the Data\n",
    "\n",
    "There's not a magic bullet recommendation for the right number of plots to understand a given dataset, but visualizing your data is *always* a good idea. Not only does it allow you to quickly convey your findings (even if you have a non-technical audience), it will often reveal trends in your data that escaped you when you were looking only at numbers. It is important to not only create visualizations, but to **interpret your visualizations** as well.\n",
    "\n",
    "**Every plot should**:\n",
    "- Have a title\n",
    "- Have axis labels\n",
    "- Have appropriate tick labels\n",
    "- Text is legible in a plot\n",
    "- Plots demonstrate meaningful and valid relationships\n",
    "- Have an interpretation to aid understanding\n",
    "\n",
    "Here is an example of what your plots should look like following the above guidelines. Note that while the content of this example is unrelated, the principles of visualization hold:\n",
    "\n",
    "![](https://snag.gy/hCBR1U.jpg)\n",
    "*Interpretation: The above image shows that as we increase our spending on advertising, our sales numbers also tend to increase. There is a positive correlation between advertising spending and sales.*\n",
    "\n",
    "---\n",
    "\n",
    "Here are some prompts to get you started with visualizations. Feel free to add additional visualizations as you see fit:\n",
    "1. Use Seaborn's heatmap with pandas `.corr()` to visualize correlations between all numeric features.\n",
    "    - Heatmaps are generally not appropriate for presentations, and should often be excluded from reports as they can be visually overwhelming. **However**, they can be extremely useful in identify relationships of potential interest (as well as identifying potential collinearity before modeling).\n",
    "    - Please take time to format your output, adding a title. Look through some of the additional arguments and options. (Axis labels aren't really necessary, as long as the title is informative).\n",
    "2. Visualize distributions using histograms. If you have a lot, consider writing a custom function and use subplots.\n",
    "    - *OPTIONAL*: Summarize the underlying distributions of your features (in words & statistics)\n",
    "         - Be thorough in your verbal description of these distributions.\n",
    "         - Be sure to back up these summaries with statistics.\n",
    "         - We generally assume that data we sample from a population will be normally distributed. Do we observe this trend? Explain your answers for each distribution and how you think this will affect estimates made from these data.\n",
    "3. Plot and interpret boxplots. \n",
    "    - Boxplots demonstrate central tendency and spread in variables. In a certain sense, these are somewhat redundant with histograms, but you may be better able to identify clear outliers or differences in IQR, etc.\n",
    "    - Multiple values can be plotted to a single boxplot as long as they are of the same relative scale (meaning they have similar min/max values).\n",
    "    - Each boxplot should:\n",
    "        - Only include variables of a similar scale\n",
    "        - Have clear labels for each variable\n",
    "        - Have appropriate titles and labels\n",
    "4. Plot and interpret scatter plots to view relationships between features. Feel free to write a custom function, and subplot if you'd like. Functions save both time and space.\n",
    "    - Your plots should have:\n",
    "        - Two clearly labeled axes\n",
    "        - A proper title\n",
    "        - Colors and symbols that are clear and unmistakable\n",
    "5. Additional plots of your choosing.\n",
    "    - Are there any additional trends or relationships you haven't explored? Was there something interesting you saw that you'd like to dive further into? It's likely that there are a few more plots you might want to generate to support your narrative and recommendations that you are building toward. **As always, make sure you're interpreting your plots as you go**."
   ]
  },
  {
   "cell_type": "markdown",
   "metadata": {},
   "source": [
    "Some ideas for plots that can be generated:\n",
    "\n",
    "- Plot the histogram of the rainfall data with various bins and comment on the distribution of the data - is it centered, skewed?\n",
    "- Plot the box-and-whiskers plot. Comment on the different quartiles and identify any outliers in the dataset. \n",
    "- Is there a correlation between the number of rainy days and total rainfall in the month? What kind of correlation do your suspect? Does the graph show the same?\n"
   ]
  },
  {
   "cell_type": "code",
   "execution_count": 56,
   "metadata": {},
   "outputs": [],
   "source": [
    "# Changing 'year' to str type to prevent plotting 'year' in charts\n",
    "merged_df['year'] = merged_df['year'].astype(str)"
   ]
  },
  {
   "cell_type": "code",
   "execution_count": 57,
   "metadata": {},
   "outputs": [
    {
     "data": {
      "image/png": "[encoded data removed]",
      "text/plain": [
       "<Figure size 1600x1200 with 2 Axes>"
      ]
     },
     "metadata": {},
     "output_type": "display_data"
    }
   ],
   "source": [
    "# find out correlation across the merged_df\n",
    "\n",
    "plt.figure(figsize = (16,12))\n",
    "\n",
    "# Get correlation of variables.\n",
    "corr = merged_df.corr(numeric_only = True)\n",
    "\n",
    "# Set up mask to be \"True\" in the upper triangle. this is to reduce the number of 'squares' seen in the correlation heatmap\n",
    "mask = np.zeros_like(corr)\n",
    "mask[np.triu_indices_from(mask)] = True\n",
    "\n",
    "# Plot our correlation heatmap, while masking the upper triangle to be white.\n",
    "with sns.axes_style(\"white\"):\n",
    "    sns.heatmap(corr, mask = mask, square = True, annot = True, vmin = -1, vmax = 1, linewidths = .5, cmap='crest')"
   ]
  },
  {
   "cell_type": "markdown",
   "metadata": {},
   "source": [
    "Interpretation:\n",
    "\n",
    "- There is strong negative correlation between all regions of PSI levels and total death rate. Which means that, the PSI levels goes down as the total death rate increases. The same goes for PSI levels and the total rainfall and number of rainy days.\n",
    "  \n",
    "- There is a slight negative correlation between PSI levels and the total hospital admissions and respiratory deaths.\n",
    "\n",
    "- And for obvious reasions, there is a strong correlations between total hospital admissions and respiratory deaths. As well as between total rainfall and number of rainy days. "
   ]
  },
  {
   "cell_type": "code",
   "execution_count": 58,
   "metadata": {},
   "outputs": [
    {
     "data": {
      "image/png": "[encoded data removed]",
      "text/plain": [
       "<Figure size 640x480 with 1 Axes>"
      ]
     },
     "metadata": {},
     "output_type": "display_data"
    }
   ],
   "source": [
    "# Total rainfall across years\n",
    "merged_df.groupby('year')['total_rainfall'].mean().plot(kind='barh',\n",
    "                                                         color = ['grey','gray','gray','blue','gray','gray','gray','gray','gray','gray']);\n",
    "plt.title(\"Total rainfall across years\")\n",
    "plt.xlabel(\"Total rainfall\")\n",
    "plt.ylabel(\"Years\");"
   ]
  },
  {
   "cell_type": "code",
   "execution_count": 59,
   "metadata": {},
   "outputs": [
    {
     "data": {
      "image/png": "[encoded data removed]",
      "text/plain": [
       "<Figure size 640x480 with 1 Axes>"
      ]
     },
     "metadata": {},
     "output_type": "display_data"
    }
   ],
   "source": [
    "# study mean admissions by year\n",
    "merged_df.groupby('year')['total_admissions'].mean().sort_values(ascending=True).plot.barh(color=['grey', 'grey','grey', 'grey','grey', 'grey','orchid'])\n",
    "plt.title(\"Mean admissions by years\")\n",
    "plt.xlabel(\"Mean admissions\")\n",
    "plt.ylabel(\"Year\");"
   ]
  },
  {
   "cell_type": "code",
   "execution_count": 60,
   "metadata": {},
   "outputs": [
    {
     "data": {
      "image/png": "[encoded data removed]",
      "text/plain": [
       "<Figure size 1200x1200 with 4 Axes>"
      ]
     },
     "metadata": {},
     "output_type": "display_data"
    }
   ],
   "source": [
    "# Create a figure with multiple subplots\n",
    "fig, axes = plt.subplots(2, 2, figsize=(12, 12))\n",
    "\n",
    "# Plot for the north region\n",
    "sns.barplot(data=merged_df, x='total_death_rate', y='north', hue='year', palette='husl', ax=axes[0, 0])\n",
    "axes[0, 0].set_ylabel('Total death rate')\n",
    "axes[0, 0].set_xlabel('PSI in north region')\n",
    "axes[0, 0].set_title('Total death rate in the north region by years')\n",
    "\n",
    "# Plot for the south region\n",
    "sns.barplot(data=merged_df, x='total_death_rate', y='south', hue='year', palette='husl', ax=axes[0, 1])\n",
    "axes[0, 1].set_ylabel('Total death rate')\n",
    "axes[0, 1].set_xlabel('PSI in south region')\n",
    "axes[0, 1].set_title('Total death rate in the south region by years')\n",
    "\n",
    "# Plot for the east region\n",
    "sns.barplot(data=merged_df, x='total_death_rate', y='east', hue='year', palette='husl', ax=axes[1, 0])\n",
    "axes[1, 0].set_ylabel('Total death rate')\n",
    "axes[1, 0].set_xlabel('PSI in east region')\n",
    "axes[1, 0].set_title('Total death rate in the east region by years')\n",
    "\n",
    "# Plot for the west region\n",
    "sns.barplot(data=merged_df, x='total_death_rate', y='west', hue='year', palette='husl', ax=axes[1, 1])\n",
    "axes[1, 1].set_ylabel('Total death rate')\n",
    "axes[1, 1].set_xlabel('PSI in west region')\n",
    "axes[1, 1].set_title('Total death rate in the west region by years')\n",
    "\n",
    "# Adjust the layout and display the plots\n",
    "plt.tight_layout()\n",
    "plt.show()"
   ]
  },
  {
   "cell_type": "markdown",
   "metadata": {},
   "source": [
    "**Observation**:\n",
    "Total death rate is consistent across various regions, indicating that there is not much variation in terms of mortality rates across different areas."
   ]
  },
  {
   "cell_type": "code",
   "execution_count": 61,
   "metadata": {},
   "outputs": [
    {
     "data": {
      "image/png": "[encoded data removed]",
      "text/plain": [
       "<Figure size 1200x900 with 1 Axes>"
      ]
     },
     "metadata": {},
     "output_type": "display_data"
    }
   ],
   "source": [
    "# find out how the number of rainy days and total rainfall correlates by season\n",
    "plt.figure(figsize=(12,9))\n",
    "sns.scatterplot(monthly_df, x='total_rainfall',y='no_of_rainy_days', size='total_rainfall')\n",
    "plt.xlabel('Total amount of rainfall in mm')\n",
    "plt.ylabel('Number of rainy days in a month')\n",
    "plt.title('Scatterplot of total rainfall vs number of rainy days in a month')\n",
    "plt.show();"
   ]
  },
  {
   "cell_type": "markdown",
   "metadata": {},
   "source": [
    "**Observation**:\n",
    "- There is a strong correlation between total amount of rainfall and number of rainy days.\n",
    "- The pattern is consistent with a positive correlation. \n",
    "- Due to the data that is present, there are some erratic data that may not be representative. "
   ]
  },
  {
   "cell_type": "markdown",
   "metadata": {},
   "source": [
    "## Conclusions and Recommendations"
   ]
  },
  {
   "cell_type": "markdown",
   "metadata": {},
   "source": [
    "**Conclusion**: \n",
    "In conclusion, our exploration of the correlation between rainy seasons and mortality rates, as well as hospital visits, has provided valuable insights for the Health Promotion Board. By understanding the relationship between rainy seasons and health outcomes, the Health Promotion Board can make informed decisions and develop targeted interventions to address potential health risks during these periods.\n",
    "\n",
    "Our analysis highlights the importance of implementing preventive measures, allocating resources effectively, and developing appropriate health promotion campaigns during rainy seasons. By enhancing public awareness, strengthening healthcare infrastructure, and implementing targeted interventions, the Health Promotion Board can effectively mitigate the impact of adverse weather conditions on public health.\n",
    "\n",
    "Overall, our findings provide a solid foundation for the Health Promotion Board to develop evidence-based strategies and interventions that will lead to improved health outcomes during rainy seasons."
   ]
  },
  {
   "cell_type": "markdown",
   "metadata": {},
   "source": [
    "**Recommendations:** \n",
    "Based on our analysis of the correlation between rainy seasons and mortality rates as well as hospital visits, we would like to provide the following recommendations to the Health Promotion Board:\n",
    "\n",
    "- Enhance Public Awareness: Develop and implement public awareness campaigns to educate the population about the potential health risks associated with higher PSI level periods. Focus on promoting preventive measures and safety practices to reduce the impact of adverse weather conditions.\n",
    "\n",
    "- Strengthen Healthcare Infrastructure: Allocate resources and strengthen the healthcare infrastructure, particularly in areas prone to higher mortality rates and increased hospital visits during rainy seasons. This includes ensuring sufficient healthcare facilities, medical personnel, and necessary equipment to handle the potential surge in demand.\n",
    "\n",
    "- Targeted Interventions: Develop targeted interventions and initiatives specifically tailored to address health risks during rainy seasons. This could involve providing information on proper hygiene practices, immunizations, and appropriate medical care for common rainy season-related illnesses.\n",
    "\n",
    "- Collaboration with Meteorological Agencies: Establish collaborations with meteorological agencies to obtain accurate and timely weather forecasts. This will enable the Health Promotion Board to proactively plan and respond to potential health risks associated with specific weather conditions during the rainy seasons.\n",
    "\n",
    "- Data Monitoring and Analysis: Continuously monitor and analyze data related to mortality rates and hospital visits during rainy seasons. Identify trends and patterns to gain deeper insights into the specific health risks and challenges faced during these periods. This will facilitate evidence-based decision-making and targeted interventions.\n",
    "\n",
    "- Community Engagement: Engage with the community through outreach programs and partnerships with local organizations. Encourage community participation in health promotion activities, disaster preparedness, and response plans during rainy seasons.\n",
    "\n",
    "- Evaluation and Continuous Improvement: Regularly evaluate the effectiveness of interventions implemented during rainy seasons. Collect feedback from healthcare professionals, the community, and other stakeholders to identify areas for improvement and make necessary adjustments to strategies and campaigns.\n",
    "\n",
    "By implementing these recommendations, the Health Promotion Board can effectively address potential health risks during rainy seasons, enhance public health outcomes, and ensure the well-being of the population."
   ]
  },
  {
   "cell_type": "code",
   "execution_count": null,
   "metadata": {},
   "outputs": [],
   "source": []
  }
 ],
 "metadata": {
  "anaconda-cloud": {},
  "kernelspec": {
   "display_name": "Python 3 (ipykernel)",
   "language": "python",
   "name": "python3"
  },
  "language_info": {
   "codemirror_mode": {
    "name": "ipython",
    "version": 3
   },
   "file_extension": ".py",
   "mimetype": "text/x-python",
   "name": "python",
   "nbconvert_exporter": "python",
   "pygments_lexer": "ipython3",
   "version": "3.8.17"
  }
 },
 "nbformat": 4,
 "nbformat_minor": 4
}
